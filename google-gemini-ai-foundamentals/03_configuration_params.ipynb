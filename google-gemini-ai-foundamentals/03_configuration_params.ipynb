{
 "cells": [
  {
   "cell_type": "code",
   "execution_count": 1,
   "id": "1adf424f-0053-4775-b8a3-aaee4fce024a",
   "metadata": {},
   "outputs": [],
   "source": [
    "import google.generativeai as genai\n",
    "api_key = 'SECRET_KEY'\n",
    "genai.configure(api_key=api_key)\n",
    "model = genai.GenerativeModel('gemini-pro')"
   ]
  },
  {
   "cell_type": "code",
   "execution_count": 2,
   "id": "a40f639f-04c2-49e7-bd79-b44945595cf4",
   "metadata": {},
   "outputs": [],
   "source": [
    "config = genai.types.GenerationConfig(temperature=1.0,max_output_tokens=2000)"
   ]
  },
  {
   "cell_type": "code",
   "execution_count": 7,
   "id": "5010f065-4a08-47b1-adaa-fe2b0eacd903",
   "metadata": {},
   "outputs": [],
   "source": [
    "def get_response(prompt, generation_config):\n",
    "    response = model.generate_content(contents=prompt, generation_config=generation_config)\n",
    "    return response"
   ]
  },
  {
   "cell_type": "code",
   "execution_count": 12,
   "id": "71a4fb5f-3248-4f2c-b050-7f2821809d79",
   "metadata": {},
   "outputs": [],
   "source": [
    "result = get_response(\"Tell me a story about the Moon\", config)"
   ]
  },
  {
   "cell_type": "code",
   "execution_count": 13,
   "id": "652068a3-95dd-4ee8-8c6c-f663126de200",
   "metadata": {
    "collapsed": true,
    "jupyter": {
     "outputs_hidden": true
    }
   },
   "outputs": [
    {
     "name": "stdout",
     "output_type": "stream",
     "text": [
      "In the ethereal tapestry of the night sky, where cosmic wonders unfold, there whispers a tale of the Moon, our celestial companion.\n",
      "\n",
      "From the depths of Earth's primordial oceans, a titanic burst of energy surged forth, hurling a fragment of our planet into the void. As it drifted through the celestial dance, it coalesced under the gravitational embrace of its parent, becoming a celestial orb we now call the Moon.\n",
      "\n",
      "Through countless eons, the Moon witnessed the birth of life on Earth. Its gentle glow illuminated the nocturnal skies, guiding ancient mariners and nurturing the dreams of poets and philosophers. It bore witness to towering mountains, roaring seas, and the rise and fall of civilizations.\n",
      "\n",
      "As humans turned their gaze towards the heavens, the Moon became an object of wonder and exploration. The silvery orb captivated the imaginations of astronomers, who charted its craters and mapped its enigmatic surface. In 1969, a momentous milestone was reached when Neil Armstrong stepped onto the lunar regolith, forever etching his footprints in the annals of human achievement.\n",
      "\n",
      "But the Moon holds more than just a celestial allure. It exerts a subtle influence on our lives and the natural world. Its gravitational pull shapes the tides, dictating the rhythm of ocean currents. Folklore and mythology around the world attribute mystical powers to its lunar cycles, influencing everything from fertility to mental states.\n",
      "\n",
      "As the night surrenders to dawn, the Moon fades from view, leaving behind a sense of wonder and a reminder of our cosmic origins. It remains a silent guardian, a celestial timekeeper that reminds us of the vastness of our universe and the intricate connections that weave through it.\n",
      "\n",
      "And so, the tale of the Moon continues, an eternal celestial ballet that dances through time and space, forever captivating the hearts and minds of all who look up at the starlit sky.\n"
     ]
    }
   ],
   "source": [
    "print(result.text)"
   ]
  },
  {
   "cell_type": "code",
   "execution_count": 16,
   "id": "a2d8afc6-1d08-4b02-9c87-9f2d13134fc1",
   "metadata": {},
   "outputs": [
    {
     "name": "stdout",
     "output_type": "stream",
     "text": [
      "Once upon a time, the Moon was a shy celestial being. It hid behind the Sun's brightness, never daring to shine on its own. But one day, the Sun grew sleepy and the Moon seized its chance. It emerged from the shadows, casting a gentle glow upon the Earth below. And from that day forward, the Moon has taken its place as a beacon of hope in the darkest of nights.\n"
     ]
    }
   ],
   "source": [
    "config = genai.types.GenerationConfig(max_output_tokens=250)\n",
    "result = get_response(\"Tell me a very short story about the Moon\", config)\n",
    "print(result.text)"
   ]
  },
  {
   "cell_type": "code",
   "execution_count": 17,
   "id": "1e926023-822a-4080-9c0b-e7e272d77895",
   "metadata": {},
   "outputs": [
    {
     "name": "stdout",
     "output_type": "stream",
     "text": [
      "1. **Tidal Locking:** The Moon is tidally locked to Earth, meaning that the same side of the Moon always faces Earth. This is why we only ever see one side of the Moon from Earth.\n",
      "2. **No Atmosphere:** The Moon has no atmosphere, which means that it has no protection from the Sun's radiation. This is why the Moon's surface is covered in craters, which are caused by meteorite impacts.\n",
      "3. **Water Ice:** Despite having no atmosphere, the Moon does have water ice in its polar regions. This ice is thought to have been deposited by comets and asteroids over time.\n"
     ]
    }
   ],
   "source": [
    "# only consider most probable token\n",
    "config = genai.types.GenerationConfig(top_k=1,top_p=0,temperature=0)\n",
    "result = get_response(\"Tell me 3 facts about the Moon\", config)\n",
    "print(result.text)"
   ]
  },
  {
   "cell_type": "code",
   "execution_count": 18,
   "id": "a6eaff9e-2105-4d85-9fea-4ac914731083",
   "metadata": {},
   "outputs": [
    {
     "name": "stdout",
     "output_type": "stream",
     "text": [
      "1. **Tidal Locking:** The Moon is tidally locked to Earth, meaning that the same side of the Moon always faces Earth. This is why we only ever see one side of the Moon from Earth.\n",
      "2. **No Atmosphere:** The Moon has no atmosphere, which means that it has no protection from the Sun's radiation. This is why the Moon's surface is covered in craters, which are caused by meteorite impacts.\n",
      "3. **Water Ice:** Despite having no atmosphere, the Moon does have water ice in its polar regions. This ice is thought to have been deposited by comets and asteroids over time.\n"
     ]
    }
   ],
   "source": [
    "# redo to force the model to give same result (as much deterministic as possible)\n",
    "config = genai.types.GenerationConfig(top_k=1,top_p=0,temperature=0)\n",
    "result = get_response(\"Tell me 3 facts about the Moon\", config)\n",
    "print(result.text)"
   ]
  },
  {
   "cell_type": "code",
   "execution_count": 19,
   "id": "d073ba8b-dafb-49e6-bad8-b816e853e8f7",
   "metadata": {},
   "outputs": [
    {
     "name": "stdout",
     "output_type": "stream",
     "text": [
      "a, b, c, d, e, f, g, h, i, j, k, l, m, n, o, p, q, r, s, t, u, v, w, \n"
     ]
    }
   ],
   "source": [
    "# stop generating results when reach X or x\n",
    "config = genai.types.GenerationConfig(stop_sequences=['X','x'])\n",
    "result = get_response(\"List the letters of the alphabet\", config)\n",
    "print(result.text)"
   ]
  },
  {
   "cell_type": "code",
   "execution_count": 20,
   "id": "0e8ce732-2dd2-47f2-ab29-21c133e570e1",
   "metadata": {},
   "outputs": [
    {
     "name": "stdout",
     "output_type": "stream",
     "text": [
      "Dear [Customer Name],\n",
      "\n",
      "Thank you for choosing our store for your recent purchase of [Shoe Name]. We appreciate your business and are committed to providing you with the best possible shopping experience.\n",
      "\n",
      "We trust that you will enjoy wearing your new shoes. They are designed for [Intended Purpose] and feature [Key Features]. We are confident that they will become a beloved addition to your wardrobe.\n",
      "\n",
      "If you have any questions or concerns about your purchase, please do not hesitate to contact us. Our customer support team is available [Available Hours] via [Contact Options].\n",
      "\n",
      "We value your feedback and would appreciate it if you could take a moment to review your recent purchase. Your insights help us improve our products and services.\n",
      "\n",
      "Thank you again for your patronage. We look forward to serving you in the future.\n",
      "\n",
      "\n"
     ]
    }
   ],
   "source": [
    "# stop with Sincerely\n",
    "config = genai.types.GenerationConfig(stop_sequences=['Sincerely'])\n",
    "result = get_response(\"Write a customer support email, that thanks the customer for their purchase of shoes. End it with 'Sincerely'\", config)\n",
    "print(result.text)"
   ]
  },
  {
   "cell_type": "code",
   "execution_count": null,
   "id": "89db8143-e44e-4e13-8555-617cc109dd0d",
   "metadata": {},
   "outputs": [],
   "source": []
  }
 ],
 "metadata": {
  "kernelspec": {
   "display_name": "Python 3 (ipykernel)",
   "language": "python",
   "name": "python3"
  },
  "language_info": {
   "codemirror_mode": {
    "name": "ipython",
    "version": 3
   },
   "file_extension": ".py",
   "mimetype": "text/x-python",
   "name": "python",
   "nbconvert_exporter": "python",
   "pygments_lexer": "ipython3",
   "version": "3.9.6"
  }
 },
 "nbformat": 4,
 "nbformat_minor": 5
}
