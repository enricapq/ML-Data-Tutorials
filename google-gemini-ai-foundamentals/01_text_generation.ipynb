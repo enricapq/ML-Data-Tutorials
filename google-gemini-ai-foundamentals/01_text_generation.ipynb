{
 "cells": [
  {
   "cell_type": "code",
   "execution_count": 1,
   "id": "70751911-51a9-46e1-a865-9415568410a8",
   "metadata": {},
   "outputs": [],
   "source": [
    "import google.generativeai as genai"
   ]
  },
  {
   "cell_type": "code",
   "execution_count": 23,
   "id": "65d9547a-d3fb-46eb-95e5-5c7300cdab96",
   "metadata": {},
   "outputs": [],
   "source": [
    "api_key = 'SECRET KEY'"
   ]
  },
  {
   "cell_type": "code",
   "execution_count": 3,
   "id": "38bf50d7-fe31-46db-b4c9-54bbbe763d1f",
   "metadata": {},
   "outputs": [],
   "source": [
    "genai.configure(api_key=api_key)"
   ]
  },
  {
   "cell_type": "code",
   "execution_count": 4,
   "id": "ee054f6b-666a-499d-86f1-8ba5303462df",
   "metadata": {},
   "outputs": [],
   "source": [
    "model = genai.GenerativeModel('gemini-pro')"
   ]
  },
  {
   "cell_type": "code",
   "execution_count": 5,
   "id": "9b342dad-8ae4-4748-b4d2-db6d9768528b",
   "metadata": {},
   "outputs": [],
   "source": [
    "prompt = \"What is the capital of the united States?\""
   ]
  },
  {
   "cell_type": "code",
   "execution_count": 13,
   "id": "25e6c959-f5ad-49b3-8c6d-c0c311f058d7",
   "metadata": {},
   "outputs": [],
   "source": [
    "response = model.generate_content(prompt)"
   ]
  },
  {
   "cell_type": "code",
   "execution_count": null,
   "id": "06f2d2b6-cd15-49ff-96ee-be2728dea7a6",
   "metadata": {
    "scrolled": true
   },
   "outputs": [],
   "source": [
    "# change to non European countries to prevent \n",
    "# Error 400 User location is not supported for the API use without a billing account linked.\n",
    "# https://ai.google.dev/gemini-api/docs/available-regions#unpaid-tier-unavailable\n",
    "!curl ipinfo.io"
   ]
  },
  {
   "cell_type": "code",
   "execution_count": 15,
   "id": "7a26febc-3bfd-45cd-8079-9548579741de",
   "metadata": {},
   "outputs": [
    {
     "data": {
      "text/plain": [
       "response:\n",
       "GenerateContentResponse(\n",
       "    done=True,\n",
       "    iterator=None,\n",
       "    result=glm.GenerateContentResponse({\n",
       "      \"candidates\": [\n",
       "        {\n",
       "          \"content\": {\n",
       "            \"parts\": [\n",
       "              {\n",
       "                \"text\": \"Washington, D.C.\"\n",
       "              }\n",
       "            ],\n",
       "            \"role\": \"model\"\n",
       "          },\n",
       "          \"finish_reason\": 1,\n",
       "          \"index\": 0,\n",
       "          \"safety_ratings\": [\n",
       "            {\n",
       "              \"category\": 9,\n",
       "              \"probability\": 1,\n",
       "              \"blocked\": false\n",
       "            },\n",
       "            {\n",
       "              \"category\": 8,\n",
       "              \"probability\": 1,\n",
       "              \"blocked\": false\n",
       "            },\n",
       "            {\n",
       "              \"category\": 7,\n",
       "              \"probability\": 1,\n",
       "              \"blocked\": false\n",
       "            },\n",
       "            {\n",
       "              \"category\": 10,\n",
       "              \"probability\": 1,\n",
       "              \"blocked\": false\n",
       "            }\n",
       "          ],\n",
       "          \"token_count\": 0,\n",
       "          \"grounding_attributions\": []\n",
       "        }\n",
       "      ]\n",
       "    }),\n",
       ")"
      ]
     },
     "execution_count": 15,
     "metadata": {},
     "output_type": "execute_result"
    }
   ],
   "source": [
    "response"
   ]
  },
  {
   "cell_type": "code",
   "execution_count": 16,
   "id": "6617a743-d4de-4a60-a1bf-c2666161b612",
   "metadata": {},
   "outputs": [
    {
     "data": {
      "text/plain": [
       "'Washington, D.C.'"
      ]
     },
     "execution_count": 16,
     "metadata": {},
     "output_type": "execute_result"
    }
   ],
   "source": [
    "response.text"
   ]
  },
  {
   "cell_type": "code",
   "execution_count": 19,
   "id": "80b0e614-7421-4c53-a9a1-90447b549c55",
   "metadata": {},
   "outputs": [
    {
     "data": {
      "text/plain": []
     },
     "execution_count": 19,
     "metadata": {},
     "output_type": "execute_result"
    }
   ],
   "source": [
    "response.prompt_feedback"
   ]
  },
  {
   "cell_type": "code",
   "execution_count": 20,
   "id": "e05d0132-bc6b-46db-9719-742ed8e54ebf",
   "metadata": {},
   "outputs": [
    {
     "data": {
      "text/plain": [
       "[index: 0\n",
       "content {\n",
       "  parts {\n",
       "    text: \"Washington, D.C.\"\n",
       "  }\n",
       "  role: \"model\"\n",
       "}\n",
       "finish_reason: STOP\n",
       "safety_ratings {\n",
       "  category: HARM_CATEGORY_SEXUALLY_EXPLICIT\n",
       "  probability: NEGLIGIBLE\n",
       "}\n",
       "safety_ratings {\n",
       "  category: HARM_CATEGORY_HATE_SPEECH\n",
       "  probability: NEGLIGIBLE\n",
       "}\n",
       "safety_ratings {\n",
       "  category: HARM_CATEGORY_HARASSMENT\n",
       "  probability: NEGLIGIBLE\n",
       "}\n",
       "safety_ratings {\n",
       "  category: HARM_CATEGORY_DANGEROUS_CONTENT\n",
       "  probability: NEGLIGIBLE\n",
       "}\n",
       "]"
      ]
     },
     "execution_count": 20,
     "metadata": {},
     "output_type": "execute_result"
    }
   ],
   "source": [
    "response.candidates"
   ]
  },
  {
   "cell_type": "code",
   "execution_count": 21,
   "id": "cbd3180d-db34-461a-b266-357a4bc832ec",
   "metadata": {},
   "outputs": [],
   "source": [
    "def get_response(prompt):\n",
    "    return model.generate_content(prompt).text"
   ]
  }
 ],
 "metadata": {
  "kernelspec": {
   "display_name": "Python 3 (ipykernel)",
   "language": "python",
   "name": "python3"
  },
  "language_info": {
   "codemirror_mode": {
    "name": "ipython",
    "version": 3
   },
   "file_extension": ".py",
   "mimetype": "text/x-python",
   "name": "python",
   "nbconvert_exporter": "python",
   "pygments_lexer": "ipython3",
   "version": "3.9.6"
  }
 },
 "nbformat": 4,
 "nbformat_minor": 5
}
