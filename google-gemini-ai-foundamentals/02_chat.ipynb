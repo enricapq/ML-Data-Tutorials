{
 "cells": [
  {
   "cell_type": "code",
   "execution_count": 1,
   "id": "b52e7e86-84b0-4eae-9b14-05357eebed36",
   "metadata": {},
   "outputs": [],
   "source": [
    "import google.generativeai as genai"
   ]
  },
  {
   "cell_type": "code",
   "execution_count": 2,
   "id": "bd4ba137-2a6f-49ac-b516-8c37b20edd29",
   "metadata": {},
   "outputs": [],
   "source": [
    "api_key = 'SECRET_KEY'"
   ]
  },
  {
   "cell_type": "code",
   "execution_count": 3,
   "id": "2a23c282-bd47-46de-9c04-5eec9ecd6c16",
   "metadata": {},
   "outputs": [],
   "source": [
    "genai.configure(api_key=api_key)"
   ]
  },
  {
   "cell_type": "code",
   "execution_count": 4,
   "id": "a18a6ab8-0bf4-4fce-a659-dec34ec14046",
   "metadata": {},
   "outputs": [],
   "source": [
    "model = genai.GenerativeModel('gemini-pro')"
   ]
  },
  {
   "cell_type": "code",
   "execution_count": 5,
   "id": "6cb0b71a-57fb-4fda-a5f4-5def2c197333",
   "metadata": {},
   "outputs": [],
   "source": [
    "chat = model.start_chat()"
   ]
  },
  {
   "cell_type": "code",
   "execution_count": 6,
   "id": "5414be78-6d43-43d7-8ff7-e12f2cbe1c00",
   "metadata": {},
   "outputs": [
    {
     "data": {
      "text/plain": [
       "google.generativeai.generative_models.ChatSession"
      ]
     },
     "execution_count": 6,
     "metadata": {},
     "output_type": "execute_result"
    }
   ],
   "source": [
    "type(chat)"
   ]
  },
  {
   "cell_type": "code",
   "execution_count": 13,
   "id": "a163f5b6-3ce0-4a3c-a8aa-7941227d1a39",
   "metadata": {},
   "outputs": [],
   "source": [
    "response = chat.send_message(\"Help me plan some activities for my trip to Paris\")"
   ]
  },
  {
   "cell_type": "code",
   "execution_count": 14,
   "id": "f6a1c6c6-faf7-4aa5-9868-2963f7b64fa3",
   "metadata": {
    "collapsed": true,
    "jupyter": {
     "outputs_hidden": true
    }
   },
   "outputs": [
    {
     "name": "stdout",
     "output_type": "stream",
     "text": [
      "**Day 1:**\n",
      "\n",
      "* **Morning:** Arrive in Paris and check into your hotel.\n",
      "* **Afternoon:** Visit the Eiffel Tower for panoramic city views. Stroll through the Champ de Mars gardens below.\n",
      "* **Evening:** Take a romantic dinner cruise along the Seine River.\n",
      "\n",
      "**Day 2:**\n",
      "\n",
      "* **Morning:** Explore the Louvre Museum, home to masterpieces like the Mona Lisa and Venus de Milo.\n",
      "* **Afternoon:** Visit the Arc de Triomphe for its iconic views of the Champs-Élysées. Do some shopping along the famous avenue.\n",
      "* **Evening:** Enjoy a traditional French dinner at a charming bistro in the Latin Quarter.\n",
      "\n",
      "**Day 3:**\n",
      "\n",
      "* **Morning:** Head to the Notre Dame Cathedral for its stunning Gothic architecture and climb the towers for breathtaking views.\n",
      "* **Afternoon:** Discover the bohemian neighborhood of Montmartre, with its quaint cafes, art galleries, and Sacré-Coeur Basilica.\n",
      "* **Evening:** Attend a live performance at the world-renowned Opéra Garnier.\n",
      "\n",
      "**Day 4:**\n",
      "\n",
      "* **Morning:** Visit the Palace of Versailles, a magnificent 17th-century royal residence. Explore its opulent halls and beautiful gardens.\n",
      "* **Afternoon:** Take a day trip to Giverny, Monet's beautiful garden and home.\n",
      "* **Evening:** Enjoy a farewell dinner at a rooftop restaurant overlooking the city lights.\n",
      "\n",
      "**Additional Activities to Consider:**\n",
      "\n",
      "* Visit the Musée d'Orsay for its renowned collection of Impressionist art.\n",
      "* Explore the trendy Marais district, known for its boutiques and art galleries.\n",
      "* Learn about French history at the Palace of Conciergerie.\n",
      "* Visit the Centre Pompidou for modern and contemporary art.\n",
      "* Take a cooking class to learn the secrets of French cuisine.\n",
      "* Enjoy a traditional patisserie experience at a classic boulangerie.\n",
      "\n",
      "**Hidden Gems to Discover:**\n",
      "\n",
      "* **Musée de la Vie Romantique:** A charming museum dedicated to the Romantic era, with a beautiful garden.\n",
      "* **Promenade Plantée:** An elevated park built on a former railway line, offering unique views of the city.\n",
      "* **Canal Saint-Martin:** A picturesque canal lined with charming cafes and boutiques.\n",
      "* **Marché des Enfants Rouges:** The oldest covered market in Paris, with a vibrant atmosphere and delicious food stalls.\n",
      "* **Shakespeare and Company:** A legendary English-language bookstore located in the Latin Quarter.\n"
     ]
    }
   ],
   "source": [
    "print(response.text)"
   ]
  },
  {
   "cell_type": "code",
   "execution_count": 15,
   "id": "19d18dba-01de-41d0-af02-a64650bc5098",
   "metadata": {
    "collapsed": true,
    "jupyter": {
     "outputs_hidden": true
    },
    "scrolled": true
   },
   "outputs": [
    {
     "data": {
      "text/plain": [
       "[parts {\n",
       "   text: \"Help me plan some activities for my trip to Paris\"\n",
       " }\n",
       " role: \"user\",\n",
       " parts {\n",
       "   text: \"**Day 1:**\\n\\n* **Morning:** Arrive in Paris and check into your hotel.\\n* **Afternoon:** Visit the Eiffel Tower for panoramic city views.\\n* **Evening:** Take a romantic stroll along the Seine River and enjoy dinner at a riverside restaurant.\\n\\n**Day 2:**\\n\\n* **Morning:** Explore the Louvre Museum, home to masterpieces like the Mona Lisa.\\n* **Afternoon:** Visit the Arc de Triomphe for its iconic views of the Champs-Élysées.\\n* **Evening:** Indulge in a traditional French dinner at a charming bistro.\\n\\n**Day 3:**\\n\\n* **Morning:** Head to the Notre Dame Cathedral for its stunning Gothic architecture.\\n* **Afternoon:** Discover the bohemian neighborhood of Montmartre, with its quaint cafes and art galleries.\\n* **Evening:** Attend a live performance at the world-renowned Opéra Garnier.\\n\\n**Day 4:**\\n\\n* **Morning:** Visit the Palace of Versailles, a magnificent 17th-century royal residence.\\n* **Afternoon:** Explore the Musée d\\'Orsay, featuring a renowned collection of Impressionist art.\\n* **Evening:** Relax with a glass of wine at a cozy wine bar in the Latin Quarter.\\n\\n**Day 5:**\\n\\n* **Morning:** Take a day trip to Giverny, Monet\\'s beautiful garden.\\n* **Afternoon:** Return to Paris and visit the Musée Rodin, showcasing the works of the famous sculptor.\\n* **Evening:** Enjoy a farewell dinner at a rooftop restaurant overlooking the city lights.\\n\\n**Additional Activities to Consider:**\\n\\n* Visit the Paris Catacombs for an eerie underground experience.\\n* Take a Seine River cruise for a different perspective of the city.\\n* Explore the trendy Marais district, known for its boutiques and art galleries.\\n* Learn about French history at the Palace of Conciergerie.\\n* Visit the Centre Pompidou for modern and contemporary art.\\n* Take a cooking class to learn the secrets of French cuisine.\\n* Enjoy a traditional patisserie experience at a classic boulangerie.\"\n",
       " }\n",
       " role: \"model\",\n",
       " parts {\n",
       "   text: \"Give me more detail, about your last point\"\n",
       " }\n",
       " role: \"user\",\n",
       " parts {\n",
       "   text: \"**Traditional Patisserie Experience at a Classic Boulangerie**\\n\\nIndulge in the sweet side of Paris with a visit to a classic boulangerie, a traditional French bakery. Here\\'s how you can make the most of your experience:\\n\\n* **Choose an Authentic Boulangerie:** Look for bakeries with a cozy ambiance, fresh pastries on display, and a local clientele. Avoid tourist traps with mass-produced goods.\\n\\n* **Explore the Delicacies:** Peruse the tempting array of pastries, from flaky croissants to delicate éclairs. Don\\'t be afraid to ask the baker for recommendations or explanations about the different types.\\n\\n* **Savor the Flavors:** Select a few pastries that catch your eye and savor every bite. Enjoy the buttery richness of a croissant, the creamy filling of an éclair, or the flaky layers of a pain au chocolat.\\n\\n* **Pair with a Beverage:** Complement your pastries with a classic French beverage, such as a café au lait (coffee with steamed milk), a cappuccino, or a refreshing fruit juice.\\n\\n* **Take Your Time:** Don\\'t rush your experience. Sit down at a table or bench inside the boulangerie or take your pastries to go and enjoy them while exploring the neighborhood.\\n\\n* **Chat with the Locals:** If you\\'re feeling adventurous, strike up a conversation with the baker or other customers. Ask about their favorite pastries or local recommendations.\\n\\n**Recommended Boulangeries in Paris:**\\n\\n* **Du Pain et des Idées:** Known for its exceptional sourdough breads and pastries.\\n* **Poilâne:** A legendary bakery famous for its rustic loaves and pastries.\\n* **Gontran Cherrier:** A modern boulangerie with a wide selection of innovative pastries.\\n* **Blé Sucré:** A cozy bakery specializing in organic and seasonal pastries.\\n* **Eric Kayser:** A chain of boulangeries with a reputation for high-quality bread and pastries.\"\n",
       " }\n",
       " role: \"model\",\n",
       " parts {\n",
       "   text: \"Give me more detail, about your last point\"\n",
       " }\n",
       " role: \"user\",\n",
       " parts {\n",
       "   text: \"**Explore the Marais District, Known for Its Boutiques and Art Galleries**\\n\\nThe Marais district, located in the heart of Paris, is a vibrant and charming neighborhood known for its trendy boutiques, independent art galleries, and historical landmarks. Here\\'s how you can make the most of your exploration:\\n\\n* **Stroll the Quaint Streets:** Wander through the narrow, cobblestone streets of the Marais, admiring the beautiful architecture and soaking up the lively atmosphere.\\n\\n* **Discover Unique Boutiques:** Explore the eclectic mix of boutiques, from vintage clothing stores to designer showrooms. You\\'re sure to find something unique and special to take home.\\n\\n* **Visit Art Galleries:** The Marais is home to numerous art galleries, both established and emerging. Take your time to browse the exhibitions and discover new and inspiring works.\\n\\n* **Admire Historic Landmarks:** In addition to its boutiques and galleries, the Marais is also rich in history. Visit the Place des Vosges, a beautiful square surrounded by elegant mansions, or explore the Musée Carnavalet, which showcases the history of Paris.\\n\\n* **Enjoy a Meal or Coffee:** The Marais offers a wide range of dining options, from traditional French bistros to trendy cafes. Take a break from shopping and art appreciation to enjoy a delicious meal or a refreshing coffee.\\n\\n* **Attend a Festival or Event:** The Marais is known for its lively festivals and events throughout the year. Check the local calendar to see what\\'s happening during your visit and consider attending a concert, market, or exhibition.\\n\\n**Recommended Boutiques and Art Galleries in the Marais:**\\n\\n* **Merci:** A concept store offering a curated selection of fashion, homeware, and lifestyle products.\\n* **The Broken Arm:** A trendy boutique known for its cutting-edge fashion and design collaborations.\\n* **Galerie Thaddaeus Ropac:** A renowned art gallery showcasing contemporary and modern art.\\n* **Galerie Perrotin:** Another leading art gallery specializing in contemporary art.\\n* **Le BHV Marais:** A department store with a wide range of fashion, homeware, and beauty products.\"\n",
       " }\n",
       " role: \"model\",\n",
       " parts {\n",
       "   text: \"Help me plan some activities for my trip to Paris\"\n",
       " }\n",
       " role: \"user\",\n",
       " parts {\n",
       "   text: \"**Day 1:**\\n\\n* **Morning:** Arrive in Paris and check into your hotel.\\n* **Afternoon:** Visit the Eiffel Tower for panoramic city views. Stroll through the Champ de Mars gardens below.\\n* **Evening:** Take a romantic dinner cruise along the Seine River.\\n\\n**Day 2:**\\n\\n* **Morning:** Explore the Louvre Museum, home to masterpieces like the Mona Lisa and Venus de Milo.\\n* **Afternoon:** Visit the Arc de Triomphe for its iconic views of the Champs-Élysées. Do some shopping along the famous avenue.\\n* **Evening:** Enjoy a traditional French dinner at a charming bistro in the Latin Quarter.\\n\\n**Day 3:**\\n\\n* **Morning:** Head to the Notre Dame Cathedral for its stunning Gothic architecture and climb the towers for breathtaking views.\\n* **Afternoon:** Discover the bohemian neighborhood of Montmartre, with its quaint cafes, art galleries, and Sacré-Coeur Basilica.\\n* **Evening:** Attend a live performance at the world-renowned Opéra Garnier.\\n\\n**Day 4:**\\n\\n* **Morning:** Visit the Palace of Versailles, a magnificent 17th-century royal residence. Explore its opulent halls and beautiful gardens.\\n* **Afternoon:** Take a day trip to Giverny, Monet\\'s beautiful garden and home.\\n* **Evening:** Enjoy a farewell dinner at a rooftop restaurant overlooking the city lights.\\n\\n**Additional Activities to Consider:**\\n\\n* Visit the Musée d\\'Orsay for its renowned collection of Impressionist art.\\n* Explore the trendy Marais district, known for its boutiques and art galleries.\\n* Learn about French history at the Palace of Conciergerie.\\n* Visit the Centre Pompidou for modern and contemporary art.\\n* Take a cooking class to learn the secrets of French cuisine.\\n* Enjoy a traditional patisserie experience at a classic boulangerie.\\n\\n**Hidden Gems to Discover:**\\n\\n* **Musée de la Vie Romantique:** A charming museum dedicated to the Romantic era, with a beautiful garden.\\n* **Promenade Plantée:** An elevated park built on a former railway line, offering unique views of the city.\\n* **Canal Saint-Martin:** A picturesque canal lined with charming cafes and boutiques.\\n* **Marché des Enfants Rouges:** The oldest covered market in Paris, with a vibrant atmosphere and delicious food stalls.\\n* **Shakespeare and Company:** A legendary English-language bookstore located in the Latin Quarter.\"\n",
       " }\n",
       " role: \"model\"]"
      ]
     },
     "execution_count": 15,
     "metadata": {},
     "output_type": "execute_result"
    }
   ],
   "source": [
    "chat.history"
   ]
  },
  {
   "cell_type": "code",
   "execution_count": 16,
   "id": "aa11dfb7-ee3b-4af7-987c-7747edfd832c",
   "metadata": {},
   "outputs": [],
   "source": [
    "response = chat.send_message(\"Give me more detail, about your last point\")"
   ]
  },
  {
   "cell_type": "code",
   "execution_count": 17,
   "id": "97e6af5e-7fd8-4e12-a211-3e190c45569b",
   "metadata": {
    "collapsed": true,
    "jupyter": {
     "outputs_hidden": true
    },
    "scrolled": true
   },
   "outputs": [
    {
     "name": "stdout",
     "output_type": "stream",
     "text": [
      "**Shakespeare and Company: A Legendary English-Language Bookstore in the Latin Quarter**\n",
      "\n",
      "Nestled in the heart of the Latin Quarter, Shakespeare and Company is a beloved English-language bookstore that has been a literary hub for over a century. Here's how you can make the most of your visit:\n",
      "\n",
      "* **Browse the Extensive Collection:** Shakespeare and Company boasts an impressive collection of books, from classic literature to contemporary fiction and poetry. Spend some time browsing the shelves and discovering new and exciting authors.\n",
      "\n",
      "* **Attend a Reading or Event:** The bookstore regularly hosts readings, talks, and other literary events. Check the calendar to see what's happening during your visit and consider attending an event to connect with other book lovers and hear from authors.\n",
      "\n",
      "* **Meet the Resident Cats:** Shakespeare and Company is famous for its resident cats, who roam freely among the bookshelves and add a touch of charm to the atmosphere.\n",
      "\n",
      "* **Enjoy a Coffee or Tea:** Take a break from browsing and relax in the cozy reading room with a cup of coffee or tea.\n",
      "\n",
      "* **Support Independent Bookstores:** By visiting Shakespeare and Company, you're supporting an independent bookstore and helping to preserve its unique literary legacy.\n",
      "\n",
      "**Additional Tips:**\n",
      "\n",
      "* Be respectful of the books and the space.\n",
      "* If you find a book you love, consider purchasing it to support the bookstore.\n",
      "* Take your time to explore and soak up the atmosphere.\n",
      "* If you're a writer, consider bringing a notebook or laptop to work on your own projects in the inspiring surroundings.\n"
     ]
    }
   ],
   "source": [
    "print(response.text)"
   ]
  },
  {
   "cell_type": "code",
   "execution_count": 18,
   "id": "eb4780fe-8a12-48ae-a731-ce97099bd2e2",
   "metadata": {
    "collapsed": true,
    "jupyter": {
     "outputs_hidden": true
    }
   },
   "outputs": [
    {
     "data": {
      "text/plain": [
       "[parts {\n",
       "   text: \"Help me plan some activities for my trip to Paris\"\n",
       " }\n",
       " role: \"user\",\n",
       " parts {\n",
       "   text: \"**Day 1:**\\n\\n* **Morning:** Arrive in Paris and check into your hotel.\\n* **Afternoon:** Visit the Eiffel Tower for panoramic city views.\\n* **Evening:** Take a romantic stroll along the Seine River and enjoy dinner at a riverside restaurant.\\n\\n**Day 2:**\\n\\n* **Morning:** Explore the Louvre Museum, home to masterpieces like the Mona Lisa.\\n* **Afternoon:** Visit the Arc de Triomphe for its iconic views of the Champs-Élysées.\\n* **Evening:** Indulge in a traditional French dinner at a charming bistro.\\n\\n**Day 3:**\\n\\n* **Morning:** Head to the Notre Dame Cathedral for its stunning Gothic architecture.\\n* **Afternoon:** Discover the bohemian neighborhood of Montmartre, with its quaint cafes and art galleries.\\n* **Evening:** Attend a live performance at the world-renowned Opéra Garnier.\\n\\n**Day 4:**\\n\\n* **Morning:** Visit the Palace of Versailles, a magnificent 17th-century royal residence.\\n* **Afternoon:** Explore the Musée d\\'Orsay, featuring a renowned collection of Impressionist art.\\n* **Evening:** Relax with a glass of wine at a cozy wine bar in the Latin Quarter.\\n\\n**Day 5:**\\n\\n* **Morning:** Take a day trip to Giverny, Monet\\'s beautiful garden.\\n* **Afternoon:** Return to Paris and visit the Musée Rodin, showcasing the works of the famous sculptor.\\n* **Evening:** Enjoy a farewell dinner at a rooftop restaurant overlooking the city lights.\\n\\n**Additional Activities to Consider:**\\n\\n* Visit the Paris Catacombs for an eerie underground experience.\\n* Take a Seine River cruise for a different perspective of the city.\\n* Explore the trendy Marais district, known for its boutiques and art galleries.\\n* Learn about French history at the Palace of Conciergerie.\\n* Visit the Centre Pompidou for modern and contemporary art.\\n* Take a cooking class to learn the secrets of French cuisine.\\n* Enjoy a traditional patisserie experience at a classic boulangerie.\"\n",
       " }\n",
       " role: \"model\",\n",
       " parts {\n",
       "   text: \"Give me more detail, about your last point\"\n",
       " }\n",
       " role: \"user\",\n",
       " parts {\n",
       "   text: \"**Traditional Patisserie Experience at a Classic Boulangerie**\\n\\nIndulge in the sweet side of Paris with a visit to a classic boulangerie, a traditional French bakery. Here\\'s how you can make the most of your experience:\\n\\n* **Choose an Authentic Boulangerie:** Look for bakeries with a cozy ambiance, fresh pastries on display, and a local clientele. Avoid tourist traps with mass-produced goods.\\n\\n* **Explore the Delicacies:** Peruse the tempting array of pastries, from flaky croissants to delicate éclairs. Don\\'t be afraid to ask the baker for recommendations or explanations about the different types.\\n\\n* **Savor the Flavors:** Select a few pastries that catch your eye and savor every bite. Enjoy the buttery richness of a croissant, the creamy filling of an éclair, or the flaky layers of a pain au chocolat.\\n\\n* **Pair with a Beverage:** Complement your pastries with a classic French beverage, such as a café au lait (coffee with steamed milk), a cappuccino, or a refreshing fruit juice.\\n\\n* **Take Your Time:** Don\\'t rush your experience. Sit down at a table or bench inside the boulangerie or take your pastries to go and enjoy them while exploring the neighborhood.\\n\\n* **Chat with the Locals:** If you\\'re feeling adventurous, strike up a conversation with the baker or other customers. Ask about their favorite pastries or local recommendations.\\n\\n**Recommended Boulangeries in Paris:**\\n\\n* **Du Pain et des Idées:** Known for its exceptional sourdough breads and pastries.\\n* **Poilâne:** A legendary bakery famous for its rustic loaves and pastries.\\n* **Gontran Cherrier:** A modern boulangerie with a wide selection of innovative pastries.\\n* **Blé Sucré:** A cozy bakery specializing in organic and seasonal pastries.\\n* **Eric Kayser:** A chain of boulangeries with a reputation for high-quality bread and pastries.\"\n",
       " }\n",
       " role: \"model\",\n",
       " parts {\n",
       "   text: \"Give me more detail, about your last point\"\n",
       " }\n",
       " role: \"user\",\n",
       " parts {\n",
       "   text: \"**Explore the Marais District, Known for Its Boutiques and Art Galleries**\\n\\nThe Marais district, located in the heart of Paris, is a vibrant and charming neighborhood known for its trendy boutiques, independent art galleries, and historical landmarks. Here\\'s how you can make the most of your exploration:\\n\\n* **Stroll the Quaint Streets:** Wander through the narrow, cobblestone streets of the Marais, admiring the beautiful architecture and soaking up the lively atmosphere.\\n\\n* **Discover Unique Boutiques:** Explore the eclectic mix of boutiques, from vintage clothing stores to designer showrooms. You\\'re sure to find something unique and special to take home.\\n\\n* **Visit Art Galleries:** The Marais is home to numerous art galleries, both established and emerging. Take your time to browse the exhibitions and discover new and inspiring works.\\n\\n* **Admire Historic Landmarks:** In addition to its boutiques and galleries, the Marais is also rich in history. Visit the Place des Vosges, a beautiful square surrounded by elegant mansions, or explore the Musée Carnavalet, which showcases the history of Paris.\\n\\n* **Enjoy a Meal or Coffee:** The Marais offers a wide range of dining options, from traditional French bistros to trendy cafes. Take a break from shopping and art appreciation to enjoy a delicious meal or a refreshing coffee.\\n\\n* **Attend a Festival or Event:** The Marais is known for its lively festivals and events throughout the year. Check the local calendar to see what\\'s happening during your visit and consider attending a concert, market, or exhibition.\\n\\n**Recommended Boutiques and Art Galleries in the Marais:**\\n\\n* **Merci:** A concept store offering a curated selection of fashion, homeware, and lifestyle products.\\n* **The Broken Arm:** A trendy boutique known for its cutting-edge fashion and design collaborations.\\n* **Galerie Thaddaeus Ropac:** A renowned art gallery showcasing contemporary and modern art.\\n* **Galerie Perrotin:** Another leading art gallery specializing in contemporary art.\\n* **Le BHV Marais:** A department store with a wide range of fashion, homeware, and beauty products.\"\n",
       " }\n",
       " role: \"model\",\n",
       " parts {\n",
       "   text: \"Help me plan some activities for my trip to Paris\"\n",
       " }\n",
       " role: \"user\",\n",
       " parts {\n",
       "   text: \"**Day 1:**\\n\\n* **Morning:** Arrive in Paris and check into your hotel.\\n* **Afternoon:** Visit the Eiffel Tower for panoramic city views. Stroll through the Champ de Mars gardens below.\\n* **Evening:** Take a romantic dinner cruise along the Seine River.\\n\\n**Day 2:**\\n\\n* **Morning:** Explore the Louvre Museum, home to masterpieces like the Mona Lisa and Venus de Milo.\\n* **Afternoon:** Visit the Arc de Triomphe for its iconic views of the Champs-Élysées. Do some shopping along the famous avenue.\\n* **Evening:** Enjoy a traditional French dinner at a charming bistro in the Latin Quarter.\\n\\n**Day 3:**\\n\\n* **Morning:** Head to the Notre Dame Cathedral for its stunning Gothic architecture and climb the towers for breathtaking views.\\n* **Afternoon:** Discover the bohemian neighborhood of Montmartre, with its quaint cafes, art galleries, and Sacré-Coeur Basilica.\\n* **Evening:** Attend a live performance at the world-renowned Opéra Garnier.\\n\\n**Day 4:**\\n\\n* **Morning:** Visit the Palace of Versailles, a magnificent 17th-century royal residence. Explore its opulent halls and beautiful gardens.\\n* **Afternoon:** Take a day trip to Giverny, Monet\\'s beautiful garden and home.\\n* **Evening:** Enjoy a farewell dinner at a rooftop restaurant overlooking the city lights.\\n\\n**Additional Activities to Consider:**\\n\\n* Visit the Musée d\\'Orsay for its renowned collection of Impressionist art.\\n* Explore the trendy Marais district, known for its boutiques and art galleries.\\n* Learn about French history at the Palace of Conciergerie.\\n* Visit the Centre Pompidou for modern and contemporary art.\\n* Take a cooking class to learn the secrets of French cuisine.\\n* Enjoy a traditional patisserie experience at a classic boulangerie.\\n\\n**Hidden Gems to Discover:**\\n\\n* **Musée de la Vie Romantique:** A charming museum dedicated to the Romantic era, with a beautiful garden.\\n* **Promenade Plantée:** An elevated park built on a former railway line, offering unique views of the city.\\n* **Canal Saint-Martin:** A picturesque canal lined with charming cafes and boutiques.\\n* **Marché des Enfants Rouges:** The oldest covered market in Paris, with a vibrant atmosphere and delicious food stalls.\\n* **Shakespeare and Company:** A legendary English-language bookstore located in the Latin Quarter.\"\n",
       " }\n",
       " role: \"model\",\n",
       " parts {\n",
       "   text: \"Give me more detail, about your last point\"\n",
       " }\n",
       " role: \"user\",\n",
       " parts {\n",
       "   text: \"**Shakespeare and Company: A Legendary English-Language Bookstore in the Latin Quarter**\\n\\nNestled in the heart of the Latin Quarter, Shakespeare and Company is a beloved English-language bookstore that has been a literary hub for over a century. Here\\'s how you can make the most of your visit:\\n\\n* **Browse the Extensive Collection:** Shakespeare and Company boasts an impressive collection of books, from classic literature to contemporary fiction and poetry. Spend some time browsing the shelves and discovering new and exciting authors.\\n\\n* **Attend a Reading or Event:** The bookstore regularly hosts readings, talks, and other literary events. Check the calendar to see what\\'s happening during your visit and consider attending an event to connect with other book lovers and hear from authors.\\n\\n* **Meet the Resident Cats:** Shakespeare and Company is famous for its resident cats, who roam freely among the bookshelves and add a touch of charm to the atmosphere.\\n\\n* **Enjoy a Coffee or Tea:** Take a break from browsing and relax in the cozy reading room with a cup of coffee or tea.\\n\\n* **Support Independent Bookstores:** By visiting Shakespeare and Company, you\\'re supporting an independent bookstore and helping to preserve its unique literary legacy.\\n\\n**Additional Tips:**\\n\\n* Be respectful of the books and the space.\\n* If you find a book you love, consider purchasing it to support the bookstore.\\n* Take your time to explore and soak up the atmosphere.\\n* If you\\'re a writer, consider bringing a notebook or laptop to work on your own projects in the inspiring surroundings.\"\n",
       " }\n",
       " role: \"model\"]"
      ]
     },
     "execution_count": 18,
     "metadata": {},
     "output_type": "execute_result"
    }
   ],
   "source": [
    "chat.history"
   ]
  },
  {
   "cell_type": "code",
   "execution_count": null,
   "id": "0c4871f2-f05d-4c98-8288-4198df82e074",
   "metadata": {
    "scrolled": true
   },
   "outputs": [],
   "source": [
    "for item in chat.history:\n",
    "    print(item.parts[0])\n",
    "    print('\\n\\n')"
   ]
  },
  {
   "cell_type": "code",
   "execution_count": 23,
   "id": "b6cd2fd4-f039-45f8-853e-b345d52d58f6",
   "metadata": {},
   "outputs": [
    {
     "data": {
      "text/plain": [
       "total_tokens: 7"
      ]
     },
     "execution_count": 23,
     "metadata": {},
     "output_type": "execute_result"
    }
   ],
   "source": [
    "model.count_tokens('this is a random string of characters')"
   ]
  }
 ],
 "metadata": {
  "kernelspec": {
   "display_name": "Python 3 (ipykernel)",
   "language": "python",
   "name": "python3"
  },
  "language_info": {
   "codemirror_mode": {
    "name": "ipython",
    "version": 3
   },
   "file_extension": ".py",
   "mimetype": "text/x-python",
   "name": "python",
   "nbconvert_exporter": "python",
   "pygments_lexer": "ipython3",
   "version": "3.9.6"
  }
 },
 "nbformat": 4,
 "nbformat_minor": 5
}
