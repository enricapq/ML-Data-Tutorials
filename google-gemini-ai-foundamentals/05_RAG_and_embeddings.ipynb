{
 "cells": [
  {
   "cell_type": "code",
   "execution_count": 1,
   "id": "d4cc1a0a-8442-4e00-bbd4-f6d1cc198de2",
   "metadata": {},
   "outputs": [],
   "source": [
    "import os\n",
    "import yaml\n",
    "import google.generativeai as genai"
   ]
  },
  {
   "cell_type": "code",
   "execution_count": 2,
   "id": "df4f0822-6334-470a-8454-f2cb937f4c51",
   "metadata": {},
   "outputs": [],
   "source": [
    "credentials = yaml.safe_load(open(os.path.expanduser('~/.secrets/google_ai.yml')))"
   ]
  },
  {
   "cell_type": "code",
   "execution_count": 3,
   "id": "c12a72dd-5f46-4c47-8aca-7f42f1e6ef7c",
   "metadata": {},
   "outputs": [],
   "source": [
    "api_key = credentials['api_key']\n",
    "genai.configure(api_key=api_key)"
   ]
  },
  {
   "cell_type": "code",
   "execution_count": 4,
   "id": "a48223f0-02c4-46ab-87ee-afb0d84eeb5f",
   "metadata": {},
   "outputs": [],
   "source": [
    "sports_news_text = {'title':'Sports Section',\n",
    "                    'text':'San Francisco 49ers are heading to the super bowl in a football showdown!'}"
   ]
  },
  {
   "cell_type": "code",
   "execution_count": 5,
   "id": "ac3a3948-0883-434d-ada5-fb4a0c2f0e85",
   "metadata": {},
   "outputs": [],
   "source": [
    "finance_news_text = {'title':'Finance Section',\n",
    "                    'text':'Meta stock has reached all time high due to its big push in AI research'}"
   ]
  },
  {
   "cell_type": "code",
   "execution_count": 6,
   "id": "42806044-7e4b-4032-a67f-51ede0623458",
   "metadata": {},
   "outputs": [
    {
     "name": "stdout",
     "output_type": "stream",
     "text": [
      "models/chat-bison-001\n",
      "models/text-bison-001\n",
      "models/embedding-gecko-001\n",
      "models/gemini-1.0-pro\n",
      "models/gemini-1.0-pro-001\n",
      "models/gemini-1.0-pro-latest\n",
      "models/gemini-1.0-pro-vision-latest\n",
      "models/gemini-1.5-flash-001\n",
      "models/gemini-1.5-flash-latest\n",
      "models/gemini-1.5-pro-001\n",
      "models/gemini-1.5-pro-latest\n",
      "models/gemini-pro\n",
      "models/gemini-pro-vision\n",
      "models/embedding-001\n",
      "models/text-embedding-004\n",
      "models/aqa\n"
     ]
    }
   ],
   "source": [
    "for model in genai.list_models():\n",
    "    print(model.name)"
   ]
  },
  {
   "cell_type": "code",
   "execution_count": 7,
   "id": "e5814c61-c42c-4074-bb4b-3ba5b14422ab",
   "metadata": {},
   "outputs": [],
   "source": [
    "sports_embedding_vector = genai.embed_content(model='models/embedding-001',\n",
    "                                              content=sports_news_text['text'],\n",
    "                                              task_type='retrieval_document')"
   ]
  },
  {
   "cell_type": "code",
   "execution_count": 8,
   "id": "64be5aab-5d42-41f3-b239-f76d0cab2866",
   "metadata": {},
   "outputs": [
    {
     "data": {
      "text/plain": [
       "dict"
      ]
     },
     "execution_count": 8,
     "metadata": {},
     "output_type": "execute_result"
    }
   ],
   "source": [
    "type(sports_embedding_vector)"
   ]
  },
  {
   "cell_type": "code",
   "execution_count": 9,
   "id": "ac1f1e95-4021-4344-8a75-5bc50d371fc4",
   "metadata": {},
   "outputs": [
    {
     "data": {
      "text/plain": [
       "list"
      ]
     },
     "execution_count": 9,
     "metadata": {},
     "output_type": "execute_result"
    }
   ],
   "source": [
    "type(sports_embedding_vector['embedding'])"
   ]
  },
  {
   "cell_type": "code",
   "execution_count": 10,
   "id": "5a6e8cdd-b1e1-4452-98de-5a92f92a8da4",
   "metadata": {
    "scrolled": true
   },
   "outputs": [
    {
     "data": {
      "text/plain": [
       "[0.017034732,\n",
       " -0.002852212,\n",
       " -0.05543998,\n",
       " -0.02071096,\n",
       " 0.04227543,\n",
       " -0.00046997407,\n",
       " -0.0052968594,\n",
       " 0.0067575034,\n",
       " 0.0108586075,\n",
       " 0.03362889,\n",
       " -0.007843889,\n",
       " 0.05088861,\n",
       " -0.014354059,\n",
       " 0.025606241,\n",
       " -0.0055216746,\n",
       " -0.019924918,\n",
       " 0.025058607,\n",
       " 0.038961295,\n",
       " 0.015219009,\n",
       " -0.012273454,\n",
       " 0.04804724,\n",
       " 0.010514121,\n",
       " -0.01890651,\n",
       " -0.0096841855,\n",
       " 0.016060378,\n",
       " -0.040715527,\n",
       " 0.07061795,\n",
       " -0.05924369,\n",
       " -0.02035509,\n",
       " 0.025807017,\n",
       " -0.055238046,\n",
       " -0.000949542,\n",
       " -0.041503683,\n",
       " 0.02579506,\n",
       " 0.01932731,\n",
       " -0.07284029,\n",
       " -0.023513785,\n",
       " 0.019454738,\n",
       " 0.02661803,\n",
       " -0.0014038506,\n",
       " 0.037862476,\n",
       " -0.033956554,\n",
       " -0.012977529,\n",
       " 0.017805418,\n",
       " 0.012731145,\n",
       " 0.04063027,\n",
       " -0.01882565,\n",
       " 0.021351354,\n",
       " 0.045790687,\n",
       " -0.05137211,\n",
       " 0.07544966,\n",
       " -0.0036192879,\n",
       " 0.06400452,\n",
       " -0.004693121,\n",
       " -0.028665645,\n",
       " -0.019159509,\n",
       " 0.051767167,\n",
       " -0.017864157,\n",
       " -0.008531156,\n",
       " -0.012861022,\n",
       " -0.0013564206,\n",
       " -0.026168708,\n",
       " 0.018129522,\n",
       " 0.008066004,\n",
       " -0.014225991,\n",
       " -0.035313647,\n",
       " -0.00829876,\n",
       " 0.0133697195,\n",
       " 0.038623534,\n",
       " 0.008487957,\n",
       " -0.0056108576,\n",
       " -0.07091614,\n",
       " 0.011577103,\n",
       " 0.02274483,\n",
       " 0.05563547,\n",
       " -0.15315166,\n",
       " -0.001770094,\n",
       " 0.07321275,\n",
       " 0.018642552,\n",
       " -0.014413256,\n",
       " 0.013560885,\n",
       " -0.061051425,\n",
       " -0.07299093,\n",
       " -0.052115582,\n",
       " -0.076351605,\n",
       " 0.019410359,\n",
       " -0.029040763,\n",
       " -0.0037609136,\n",
       " 0.011841297,\n",
       " 0.03474609,\n",
       " -0.030063359,\n",
       " 0.008402244,\n",
       " 0.08605237,\n",
       " -0.04045399,\n",
       " -0.015717028,\n",
       " 0.10395611,\n",
       " 0.0043296684,\n",
       " -0.050593812,\n",
       " 0.032555006,\n",
       " -0.020607138,\n",
       " 0.015405741,\n",
       " -0.012125312,\n",
       " -0.0142076975,\n",
       " 0.067065485,\n",
       " 0.042551745,\n",
       " -0.003212697,\n",
       " -0.0026197336,\n",
       " -0.002245582,\n",
       " 0.017636316,\n",
       " 0.034752484,\n",
       " -0.05104405,\n",
       " -0.014652082,\n",
       " -0.0019558105,\n",
       " -0.02111032,\n",
       " 0.051469028,\n",
       " -0.04348341,\n",
       " 0.00071162154,\n",
       " 0.08473813,\n",
       " 0.071625456,\n",
       " 0.052740593,\n",
       " 0.04085283,\n",
       " -0.011216345,\n",
       " 0.06560133,\n",
       " -0.02953269,\n",
       " -0.019441765,\n",
       " 0.0020961775,\n",
       " 0.0032034605,\n",
       " 0.05344579,\n",
       " 0.028587056,\n",
       " -0.030702045,\n",
       " -0.02477021,\n",
       " -0.030924963,\n",
       " -0.023707826,\n",
       " -0.012207136,\n",
       " 0.049495034,\n",
       " 0.08591064,\n",
       " 0.019888842,\n",
       " -0.0361381,\n",
       " 0.004187586,\n",
       " 0.00014627072,\n",
       " 0.019688256,\n",
       " 0.043246068,\n",
       " 0.029422525,\n",
       " 0.02137471,\n",
       " -0.026923966,\n",
       " 0.047708567,\n",
       " -0.052712716,\n",
       " -0.009580357,\n",
       " 0.052219104,\n",
       " -0.00275035,\n",
       " -0.028453117,\n",
       " -0.0058035403,\n",
       " -0.04001861,\n",
       " -0.023266317,\n",
       " 0.053156465,\n",
       " 0.032712273,\n",
       " -0.035719454,\n",
       " 0.031329624,\n",
       " 0.009790289,\n",
       " 0.00692005,\n",
       " 0.008208789,\n",
       " -0.00033546044,\n",
       " 0.007562086,\n",
       " 0.03945567,\n",
       " -0.023406124,\n",
       " -0.019041602,\n",
       " 0.00457092,\n",
       " -0.0019309741,\n",
       " 0.004108884,\n",
       " 0.048030186,\n",
       " -0.008947949,\n",
       " 0.045714,\n",
       " -0.04078598,\n",
       " -0.055227987,\n",
       " -0.02728876,\n",
       " -0.055757213,\n",
       " 0.055810504,\n",
       " -0.0065865438,\n",
       " -0.033802155,\n",
       " -0.041031662,\n",
       " -0.011614599,\n",
       " -0.04141802,\n",
       " 0.054014526,\n",
       " 0.06583848,\n",
       " 0.022539195,\n",
       " -0.03044357,\n",
       " 0.04855796,\n",
       " -0.0064746356,\n",
       " -0.020434374,\n",
       " 0.016198404,\n",
       " -0.018718494,\n",
       " 0.018788218,\n",
       " -0.047122464,\n",
       " -0.031953964,\n",
       " -0.019482533,\n",
       " 0.039015524,\n",
       " 0.005674755,\n",
       " 0.0053905617,\n",
       " 0.003433717,\n",
       " -0.044439245,\n",
       " -0.0372515,\n",
       " 0.045232512,\n",
       " -0.022081245,\n",
       " 0.0067128832,\n",
       " 0.04020059,\n",
       " -0.01855233,\n",
       " 0.04528396,\n",
       " -0.041155018,\n",
       " -0.021999592,\n",
       " 0.0336956,\n",
       " -0.030817414,\n",
       " 0.03653792,\n",
       " -0.012859832,\n",
       " -0.0030373053,\n",
       " 0.041564263,\n",
       " 0.0030849862,\n",
       " -0.02838148,\n",
       " 0.04675378,\n",
       " -0.011927315,\n",
       " -0.026839983,\n",
       " -0.024004161,\n",
       " -0.007661836,\n",
       " -0.019337222,\n",
       " 0.023379473,\n",
       " 0.0040932773,\n",
       " 0.04030236,\n",
       " -0.045593157,\n",
       " -0.012704299,\n",
       " 0.0275156,\n",
       " -0.023672614,\n",
       " 0.0054055275,\n",
       " 0.058932014,\n",
       " 0.032487772,\n",
       " 0.03967706,\n",
       " 0.094620876,\n",
       " -0.008654133,\n",
       " -0.0001556796,\n",
       " 0.01414059,\n",
       " 0.028289735,\n",
       " 0.02736835,\n",
       " -0.039020203,\n",
       " 0.035857163,\n",
       " 0.014693847,\n",
       " 0.016774032,\n",
       " -0.066791564,\n",
       " -0.053005733,\n",
       " -0.043763444,\n",
       " 0.054399867,\n",
       " -0.0132090235,\n",
       " 0.02807607,\n",
       " -0.022005148,\n",
       " -0.02197094,\n",
       " -0.041188978,\n",
       " 0.034697153,\n",
       " -0.123150945,\n",
       " 0.014283503,\n",
       " -0.07357319,\n",
       " 0.010710844,\n",
       " -0.05703932,\n",
       " 0.0002682465,\n",
       " 0.06929232,\n",
       " 0.039321657,\n",
       " 0.014999068,\n",
       " 0.0049548424,\n",
       " 0.009007916,\n",
       " -0.019155331,\n",
       " 0.038014818,\n",
       " -0.05060264,\n",
       " 0.015607125,\n",
       " 0.025585875,\n",
       " -0.005307504,\n",
       " -0.014427843,\n",
       " 0.028913107,\n",
       " 0.028751502,\n",
       " 0.019903282,\n",
       " -0.014489599,\n",
       " -0.003522558,\n",
       " 0.046691272,\n",
       " 0.078505464,\n",
       " -0.029172283,\n",
       " 0.014151424,\n",
       " 0.018979955,\n",
       " 0.045948993,\n",
       " -0.017174764,\n",
       " 0.029847536,\n",
       " 0.010965657,\n",
       " -0.044716157,\n",
       " -0.05134239,\n",
       " -0.011359583,\n",
       " -0.0058379765,\n",
       " -0.029518649,\n",
       " -0.047974695,\n",
       " 0.04065955,\n",
       " -0.007411229,\n",
       " -0.060318373,\n",
       " 0.024910647,\n",
       " 0.003891497,\n",
       " 0.027483733,\n",
       " 0.0017543747,\n",
       " -0.012620619,\n",
       " -0.011444244,\n",
       " -0.076546796,\n",
       " 0.0513942,\n",
       " -0.076893054,\n",
       " -0.033289615,\n",
       " 0.002094661,\n",
       " -0.006813145,\n",
       " -0.043228105,\n",
       " 0.016374575,\n",
       " 0.011709828,\n",
       " 0.013349548,\n",
       " -0.007955888,\n",
       " -0.03578863,\n",
       " -0.008605911,\n",
       " 0.032996897,\n",
       " 0.030469924,\n",
       " -0.0010161732,\n",
       " -0.0070847874,\n",
       " -0.016559372,\n",
       " 0.033906013,\n",
       " 0.0097593805,\n",
       " 0.049944755,\n",
       " 0.050403886,\n",
       " 0.012270548,\n",
       " -0.025523594,\n",
       " 0.048708554,\n",
       " -0.018227952,\n",
       " 0.02933501,\n",
       " -0.015478535,\n",
       " 0.0076550264,\n",
       " -0.0027912518,\n",
       " 0.048505463,\n",
       " -0.031897943,\n",
       " -0.0039544716,\n",
       " -0.0137937525,\n",
       " 0.048456863,\n",
       " -0.07446208,\n",
       " -0.0030085263,\n",
       " -0.047759775,\n",
       " -0.015118541,\n",
       " -0.012274704,\n",
       " 0.024005752,\n",
       " -0.057113342,\n",
       " -0.08614417,\n",
       " 0.007936757,\n",
       " -0.033243924,\n",
       " -0.043631773,\n",
       " 0.07795466,\n",
       " 0.071626425,\n",
       " 0.07280861,\n",
       " 0.019841822,\n",
       " 0.0658354,\n",
       " -0.006579353,\n",
       " 0.053506423,\n",
       " -0.016780682,\n",
       " -0.022517016,\n",
       " 0.06463346,\n",
       " -0.024548663,\n",
       " 0.029235216,\n",
       " -0.034500748,\n",
       " 0.034655355,\n",
       " -0.001811399,\n",
       " 0.021428704,\n",
       " -0.04937833,\n",
       " -0.018668162,\n",
       " 0.012631454,\n",
       " -0.024812415,\n",
       " 0.013406737,\n",
       " -0.00023751953,\n",
       " 0.043631054,\n",
       " 0.010372819,\n",
       " -0.026782693,\n",
       " 0.020620558,\n",
       " -0.02425405,\n",
       " -0.03461989,\n",
       " 0.00466484,\n",
       " -0.037164483,\n",
       " -0.03680569,\n",
       " 0.039012756,\n",
       " 0.012622172,\n",
       " -0.0016204597,\n",
       " -0.000594802,\n",
       " 0.051913098,\n",
       " -0.012454753,\n",
       " 0.003370921,\n",
       " -0.0063275644,\n",
       " 0.046279218,\n",
       " 0.031625003,\n",
       " -0.035897914,\n",
       " 0.023624595,\n",
       " -0.033042148,\n",
       " 0.016122792,\n",
       " 0.08515943,\n",
       " 0.036540087,\n",
       " -0.012685753,\n",
       " -0.031139882,\n",
       " -0.021374412,\n",
       " -0.05815294,\n",
       " 0.032597207,\n",
       " 0.032303732,\n",
       " -0.047581814,\n",
       " -0.049563915,\n",
       " -0.028377078,\n",
       " 0.011877611,\n",
       " -0.05498711,\n",
       " 0.020189479,\n",
       " 0.0043942705,\n",
       " 0.0045721265,\n",
       " -0.033540197,\n",
       " 0.015862426,\n",
       " 0.008589933,\n",
       " 0.018086504,\n",
       " -0.01218968,\n",
       " -0.042049997,\n",
       " -0.08021279,\n",
       " -0.00038326115,\n",
       " 0.033716626,\n",
       " -0.01621235,\n",
       " -0.011268467,\n",
       " 0.053925112,\n",
       " -0.034858715,\n",
       " -0.013039286,\n",
       " -0.009238065,\n",
       " -0.0066664647,\n",
       " -0.09203242,\n",
       " -0.022994645,\n",
       " 0.011484786,\n",
       " -0.03090969,\n",
       " 0.033906728,\n",
       " 0.012020792,\n",
       " 0.06784338,\n",
       " 0.0025693749,\n",
       " -0.026060203,\n",
       " -0.027415877,\n",
       " 0.0047839545,\n",
       " -0.04044828,\n",
       " -0.07019495,\n",
       " 0.0537801,\n",
       " -0.028389176,\n",
       " -0.00095134333,\n",
       " 0.042996865,\n",
       " -0.007375414,\n",
       " 0.02007567,\n",
       " -0.017823586,\n",
       " -0.016612642,\n",
       " -0.05350399,\n",
       " 0.0015948683,\n",
       " -0.0026342236,\n",
       " -0.0007536682,\n",
       " -0.06635392,\n",
       " 0.045130998,\n",
       " -0.04914051,\n",
       " -0.020622121,\n",
       " -0.08448705,\n",
       " -0.059415746,\n",
       " -0.024264472,\n",
       " -0.026173174,\n",
       " 0.040248666,\n",
       " -0.05072408,\n",
       " -0.0030202316,\n",
       " 0.050599393,\n",
       " -0.037572775,\n",
       " -0.019721197,\n",
       " -0.08393314,\n",
       " 0.0040476173,\n",
       " -0.015570028,\n",
       " -0.0015549156,\n",
       " -0.011241695,\n",
       " 0.0017701352,\n",
       " 0.042821944,\n",
       " 0.016497826,\n",
       " -0.009232379,\n",
       " -0.02703054,\n",
       " -0.03014896,\n",
       " 0.005819935,\n",
       " -0.03942231,\n",
       " -0.053671196,\n",
       " 0.02528872,\n",
       " 0.024781194,\n",
       " 0.010075124,\n",
       " 0.0008484681,\n",
       " -0.00014593027,\n",
       " 0.018904496,\n",
       " -0.017331706,\n",
       " -0.017544301,\n",
       " 0.039331015,\n",
       " 0.009841372,\n",
       " 0.009050646,\n",
       " -0.03937812,\n",
       " 0.06341774,\n",
       " 0.016696263,\n",
       " 0.018504536,\n",
       " -0.0014979155,\n",
       " -0.0025444205,\n",
       " -0.039113507,\n",
       " 0.009874726,\n",
       " -0.004974788,\n",
       " 0.06299715,\n",
       " 0.06641903,\n",
       " 0.041545462,\n",
       " -0.018354962,\n",
       " -0.009493761,\n",
       " 0.054359045,\n",
       " 0.007851779,\n",
       " 0.023432123,\n",
       " -0.090329215,\n",
       " -0.01957241,\n",
       " -0.008939265,\n",
       " 0.03235863,\n",
       " 0.0031979952,\n",
       " 0.0323201,\n",
       " 0.0446897,\n",
       " -0.019225564,\n",
       " 0.025850436,\n",
       " 0.043183878,\n",
       " -0.049550604,\n",
       " 0.014513506,\n",
       " 0.0012954125,\n",
       " -0.020819113,\n",
       " 0.0088202525,\n",
       " 0.024169633,\n",
       " -0.022174627,\n",
       " -0.08535583,\n",
       " -0.019830674,\n",
       " -0.018098712,\n",
       " -0.0074193846,\n",
       " -0.013262395,\n",
       " 0.023475261,\n",
       " -0.056730997,\n",
       " 0.009147108,\n",
       " -0.037773315,\n",
       " 0.051245417,\n",
       " -0.06701075,\n",
       " -0.010946226,\n",
       " 0.0137540735,\n",
       " -0.009832505,\n",
       " 0.012200303,\n",
       " 0.01234822,\n",
       " 0.0066760876,\n",
       " -0.01311239,\n",
       " 0.03507329,\n",
       " 0.012755584,\n",
       " 0.056655932,\n",
       " 0.024463316,\n",
       " -0.068996586,\n",
       " 0.009288215,\n",
       " 0.0016979914,\n",
       " -0.085879,\n",
       " 0.0054506455,\n",
       " 0.0173718,\n",
       " 0.0066979583,\n",
       " 0.0005582176,\n",
       " 0.020780362,\n",
       " -0.0076469686,\n",
       " 0.010703644,\n",
       " -0.004832335,\n",
       " 0.021841556,\n",
       " -0.015807515,\n",
       " 0.064524606,\n",
       " 0.052010287,\n",
       " -0.035063684,\n",
       " 0.008732142,\n",
       " -0.0038118956,\n",
       " 0.004663945,\n",
       " 0.09134757,\n",
       " -0.015663575,\n",
       " -0.021543615,\n",
       " -0.027255801,\n",
       " 0.07379202,\n",
       " -0.0074107354,\n",
       " -0.021158667,\n",
       " 0.016199613,\n",
       " 0.028451853,\n",
       " -0.016728772,\n",
       " 0.02298,\n",
       " 0.008207925,\n",
       " -0.037855912,\n",
       " 0.00799378,\n",
       " -0.06882553,\n",
       " -0.015492288,\n",
       " 0.04656573,\n",
       " -0.024448242,\n",
       " 0.025227273,\n",
       " 0.0777778,\n",
       " -0.020079946,\n",
       " -0.038003504,\n",
       " 0.05443094,\n",
       " 0.045391846,\n",
       " 0.024234315,\n",
       " 0.031415846,\n",
       " -0.06774626,\n",
       " -0.004746127,\n",
       " -0.03843057,\n",
       " 0.0029191766,\n",
       " -0.014569071,\n",
       " -0.036669336,\n",
       " 0.04438824,\n",
       " -0.004963383,\n",
       " -0.030635891,\n",
       " 0.0022574957,\n",
       " 0.014534664,\n",
       " -0.031578403,\n",
       " 0.0361032,\n",
       " -0.032565746,\n",
       " 0.03635859,\n",
       " 0.0108063,\n",
       " -0.016595004,\n",
       " -0.005847482,\n",
       " -0.009148142,\n",
       " 0.048284087,\n",
       " -0.022940591,\n",
       " -0.052192412,\n",
       " 0.012510902,\n",
       " -0.004818699,\n",
       " -0.08020984,\n",
       " -0.035049506,\n",
       " 0.049196992,\n",
       " 0.013199099,\n",
       " 0.008482534,\n",
       " -0.014286098,\n",
       " -0.035378676,\n",
       " -0.0023922613,\n",
       " 0.019571649,\n",
       " 0.012439136,\n",
       " 0.017228108,\n",
       " 0.026381915,\n",
       " -0.014275027,\n",
       " -0.029325657,\n",
       " 0.0528348,\n",
       " 0.03885863,\n",
       " 0.021441776,\n",
       " 0.07822382,\n",
       " 0.013118265,\n",
       " 0.0066719092,\n",
       " -0.06081385,\n",
       " -0.00692233,\n",
       " -0.05711088,\n",
       " -0.012301727,\n",
       " 0.04505145,\n",
       " -0.0048675514,\n",
       " -0.07769399,\n",
       " -0.010120307,\n",
       " -0.029472923,\n",
       " -0.0008606454,\n",
       " 0.022377478,\n",
       " 0.067946225,\n",
       " 0.022168083,\n",
       " -0.060890418,\n",
       " -0.06948439,\n",
       " -0.021707447,\n",
       " -0.07406224,\n",
       " -0.01312142,\n",
       " 0.029315416,\n",
       " -0.0031763203,\n",
       " 0.030986499,\n",
       " 0.013814645,\n",
       " -0.018114997,\n",
       " -0.033333194,\n",
       " 0.008779539,\n",
       " -0.008096007,\n",
       " -0.009926258,\n",
       " 0.0017324642,\n",
       " -0.02410687,\n",
       " -0.0034999317,\n",
       " 0.02452038,\n",
       " -0.04391042,\n",
       " -0.06544114,\n",
       " -0.1180225,\n",
       " 0.014514725,\n",
       " 0.033759933,\n",
       " -0.07161129,\n",
       " -0.020949384,\n",
       " 0.052518066,\n",
       " 0.010722697,\n",
       " -0.0014850566,\n",
       " 0.03529574,\n",
       " -0.008483522,\n",
       " 0.058696978,\n",
       " 0.021049963,\n",
       " 0.042513367,\n",
       " 0.056842394,\n",
       " -0.0028347264,\n",
       " -0.0070783403,\n",
       " 0.025889406,\n",
       " -0.018805165,\n",
       " 0.057722207,\n",
       " 0.026841285,\n",
       " 0.010693885,\n",
       " -0.02966734,\n",
       " -0.028487291,\n",
       " 0.031879954,\n",
       " -0.03301826,\n",
       " -0.008433503,\n",
       " 0.04013107,\n",
       " 0.048387576,\n",
       " 0.01235331,\n",
       " -0.0068214107,\n",
       " -0.006492531,\n",
       " 0.022305444,\n",
       " 0.06895292,\n",
       " -0.016337406,\n",
       " 0.023135351,\n",
       " -0.047585126,\n",
       " 0.008952424,\n",
       " 0.036308885,\n",
       " -0.0068054865,\n",
       " 0.04475792,\n",
       " 0.0448976,\n",
       " 0.027104512,\n",
       " 0.06270856,\n",
       " 0.0063972846,\n",
       " -0.029574377,\n",
       " -0.035294786,\n",
       " 0.0236579,\n",
       " -0.0019684557,\n",
       " -0.024818921,\n",
       " 0.0006409659,\n",
       " 0.05193338,\n",
       " -0.012718891,\n",
       " 0.055318538,\n",
       " 0.018065898,\n",
       " 0.030740252,\n",
       " 0.025134733,\n",
       " -0.008238865,\n",
       " -0.03437191,\n",
       " 0.07477867,\n",
       " -0.050609645,\n",
       " -0.011231892,\n",
       " -0.009625166,\n",
       " -0.011857325,\n",
       " 0.053399898,\n",
       " 0.0008399777,\n",
       " -0.002951958,\n",
       " 0.009494515,\n",
       " 0.01155782,\n",
       " 0.11270962,\n",
       " 0.009692957,\n",
       " 0.024072058,\n",
       " 0.02474812,\n",
       " -0.07113926,\n",
       " -0.01978351,\n",
       " -0.013969801,\n",
       " -0.007341642,\n",
       " 0.04967806,\n",
       " 0.05481231,\n",
       " 0.010000457,\n",
       " -0.0025722026,\n",
       " 0.002492022,\n",
       " 0.022843719,\n",
       " -0.05180283,\n",
       " -0.027584711,\n",
       " -0.0075281016,\n",
       " -0.032823347,\n",
       " 0.043996267,\n",
       " 0.02036808,\n",
       " 0.012707042,\n",
       " -0.00085779326,\n",
       " -0.017646842,\n",
       " -0.02494575,\n",
       " -0.017341485,\n",
       " -0.042916026,\n",
       " -0.005401091,\n",
       " -0.0010156381,\n",
       " -0.015288142,\n",
       " 0.0027833139,\n",
       " 0.003955529,\n",
       " -0.018301876,\n",
       " -0.00436448]"
      ]
     },
     "execution_count": 10,
     "metadata": {},
     "output_type": "execute_result"
    }
   ],
   "source": [
    "sports_embedding_vector['embedding']"
   ]
  },
  {
   "cell_type": "code",
   "execution_count": 11,
   "id": "7ca3fa2d-146b-44dd-9521-d928f3202906",
   "metadata": {},
   "outputs": [
    {
     "data": {
      "text/plain": [
       "768"
      ]
     },
     "execution_count": 11,
     "metadata": {},
     "output_type": "execute_result"
    }
   ],
   "source": [
    "len(sports_embedding_vector['embedding'])"
   ]
  },
  {
   "cell_type": "code",
   "execution_count": 12,
   "id": "2701d97c-64a6-40d2-b6e2-76af1a31a091",
   "metadata": {},
   "outputs": [],
   "source": [
    "finance_embedding_vector = genai.embed_content(model='models/embedding-001',\n",
    "                                               content=finance_news_text['text'],\n",
    "                                              task_type='retrieval_document')\n"
   ]
  },
  {
   "cell_type": "code",
   "execution_count": 13,
   "id": "bde7d1c4-c2e6-4670-8906-b9706d4f334a",
   "metadata": {},
   "outputs": [
    {
     "data": {
      "text/plain": [
       "768"
      ]
     },
     "execution_count": 13,
     "metadata": {},
     "output_type": "execute_result"
    }
   ],
   "source": [
    "len(finance_embedding_vector['embedding'])"
   ]
  },
  {
   "cell_type": "code",
   "execution_count": 14,
   "id": "8c9e3dfe-d0d9-4ced-baad-b5b4acb754ac",
   "metadata": {},
   "outputs": [],
   "source": [
    "def embed_text(text):\n",
    "    # returns the embedding \"array\"\n",
    "    return genai.embed_content(model='models/embedding-001',\n",
    "                               content=text,\n",
    "                               task_type='retrieval_document')['embedding']"
   ]
  },
  {
   "cell_type": "code",
   "execution_count": 15,
   "id": "c7b1cd62-349a-4926-b03b-dc73f8d031a4",
   "metadata": {
    "scrolled": true
   },
   "outputs": [],
   "source": [
    "# !pip install pandas"
   ]
  },
  {
   "cell_type": "code",
   "execution_count": 16,
   "id": "528d01c9-ce5f-4f61-aee7-878e043c3d05",
   "metadata": {},
   "outputs": [],
   "source": [
    "# store embedding\n",
    "import pandas as pd  # or embedding Database chromaDb pinecone"
   ]
  },
  {
   "cell_type": "code",
   "execution_count": 17,
   "id": "f2e23bda-5582-4bdf-9bc3-cc109f746650",
   "metadata": {},
   "outputs": [],
   "source": [
    "documents = [finance_news_text, sports_news_text]"
   ]
  },
  {
   "cell_type": "code",
   "execution_count": 18,
   "id": "89ed778c-e6fb-4d14-94d2-e60976230406",
   "metadata": {},
   "outputs": [
    {
     "data": {
      "text/plain": [
       "[{'title': 'Finance Section',\n",
       "  'text': 'Meta stock has reached all time high due to its big push in AI research'},\n",
       " {'title': 'Sports Section',\n",
       "  'text': 'San Francisco 49ers are heading to the super bowl in a football showdown!'}]"
      ]
     },
     "execution_count": 18,
     "metadata": {},
     "output_type": "execute_result"
    }
   ],
   "source": [
    "documents"
   ]
  },
  {
   "cell_type": "code",
   "execution_count": 19,
   "id": "5e65fe5d-c111-4fb7-8b90-4c79a7ef9380",
   "metadata": {},
   "outputs": [],
   "source": [
    "df = pd.DataFrame(documents)"
   ]
  },
  {
   "cell_type": "code",
   "execution_count": 20,
   "id": "e613dd0a-109e-4f91-9dc9-5d821a849e31",
   "metadata": {},
   "outputs": [
    {
     "data": {
      "text/html": [
       "<div>\n",
       "<style scoped>\n",
       "    .dataframe tbody tr th:only-of-type {\n",
       "        vertical-align: middle;\n",
       "    }\n",
       "\n",
       "    .dataframe tbody tr th {\n",
       "        vertical-align: top;\n",
       "    }\n",
       "\n",
       "    .dataframe thead th {\n",
       "        text-align: right;\n",
       "    }\n",
       "</style>\n",
       "<table border=\"1\" class=\"dataframe\">\n",
       "  <thead>\n",
       "    <tr style=\"text-align: right;\">\n",
       "      <th></th>\n",
       "      <th>title</th>\n",
       "      <th>text</th>\n",
       "    </tr>\n",
       "  </thead>\n",
       "  <tbody>\n",
       "    <tr>\n",
       "      <th>0</th>\n",
       "      <td>Finance Section</td>\n",
       "      <td>Meta stock has reached all time high due to it...</td>\n",
       "    </tr>\n",
       "    <tr>\n",
       "      <th>1</th>\n",
       "      <td>Sports Section</td>\n",
       "      <td>San Francisco 49ers are heading to the super b...</td>\n",
       "    </tr>\n",
       "  </tbody>\n",
       "</table>\n",
       "</div>"
      ],
      "text/plain": [
       "             title                                               text\n",
       "0  Finance Section  Meta stock has reached all time high due to it...\n",
       "1   Sports Section  San Francisco 49ers are heading to the super b..."
      ]
     },
     "execution_count": 20,
     "metadata": {},
     "output_type": "execute_result"
    }
   ],
   "source": [
    "df"
   ]
  },
  {
   "cell_type": "code",
   "execution_count": 21,
   "id": "1be6ae1b-592c-453a-9fb9-65fbd1f0c786",
   "metadata": {},
   "outputs": [],
   "source": [
    "df.columns = ['Title', 'Text']"
   ]
  },
  {
   "cell_type": "code",
   "execution_count": 22,
   "id": "9e123987-04bd-4dd7-9943-0c65926eed0e",
   "metadata": {},
   "outputs": [
    {
     "data": {
      "text/html": [
       "<div>\n",
       "<style scoped>\n",
       "    .dataframe tbody tr th:only-of-type {\n",
       "        vertical-align: middle;\n",
       "    }\n",
       "\n",
       "    .dataframe tbody tr th {\n",
       "        vertical-align: top;\n",
       "    }\n",
       "\n",
       "    .dataframe thead th {\n",
       "        text-align: right;\n",
       "    }\n",
       "</style>\n",
       "<table border=\"1\" class=\"dataframe\">\n",
       "  <thead>\n",
       "    <tr style=\"text-align: right;\">\n",
       "      <th></th>\n",
       "      <th>Title</th>\n",
       "      <th>Text</th>\n",
       "    </tr>\n",
       "  </thead>\n",
       "  <tbody>\n",
       "    <tr>\n",
       "      <th>0</th>\n",
       "      <td>Finance Section</td>\n",
       "      <td>Meta stock has reached all time high due to it...</td>\n",
       "    </tr>\n",
       "    <tr>\n",
       "      <th>1</th>\n",
       "      <td>Sports Section</td>\n",
       "      <td>San Francisco 49ers are heading to the super b...</td>\n",
       "    </tr>\n",
       "  </tbody>\n",
       "</table>\n",
       "</div>"
      ],
      "text/plain": [
       "             Title                                               Text\n",
       "0  Finance Section  Meta stock has reached all time high due to it...\n",
       "1   Sports Section  San Francisco 49ers are heading to the super b..."
      ]
     },
     "execution_count": 22,
     "metadata": {},
     "output_type": "execute_result"
    }
   ],
   "source": [
    "df"
   ]
  },
  {
   "cell_type": "code",
   "execution_count": 23,
   "id": "26455521-29ea-4421-a699-132f9972dca6",
   "metadata": {},
   "outputs": [],
   "source": [
    "df['Embeddings'] = df['Text'].apply(embed_text)  # vector store"
   ]
  },
  {
   "cell_type": "code",
   "execution_count": 24,
   "id": "7899d306-0b1a-4d93-a1b1-db8b8d6b1a04",
   "metadata": {},
   "outputs": [
    {
     "data": {
      "text/html": [
       "<div>\n",
       "<style scoped>\n",
       "    .dataframe tbody tr th:only-of-type {\n",
       "        vertical-align: middle;\n",
       "    }\n",
       "\n",
       "    .dataframe tbody tr th {\n",
       "        vertical-align: top;\n",
       "    }\n",
       "\n",
       "    .dataframe thead th {\n",
       "        text-align: right;\n",
       "    }\n",
       "</style>\n",
       "<table border=\"1\" class=\"dataframe\">\n",
       "  <thead>\n",
       "    <tr style=\"text-align: right;\">\n",
       "      <th></th>\n",
       "      <th>Title</th>\n",
       "      <th>Text</th>\n",
       "      <th>Embeddings</th>\n",
       "    </tr>\n",
       "  </thead>\n",
       "  <tbody>\n",
       "    <tr>\n",
       "      <th>0</th>\n",
       "      <td>Finance Section</td>\n",
       "      <td>Meta stock has reached all time high due to it...</td>\n",
       "      <td>[0.040587973, -0.00784966, -0.017593645, 0.016...</td>\n",
       "    </tr>\n",
       "    <tr>\n",
       "      <th>1</th>\n",
       "      <td>Sports Section</td>\n",
       "      <td>San Francisco 49ers are heading to the super b...</td>\n",
       "      <td>[0.017034732, -0.002852212, -0.05543998, -0.02...</td>\n",
       "    </tr>\n",
       "  </tbody>\n",
       "</table>\n",
       "</div>"
      ],
      "text/plain": [
       "             Title                                               Text  \\\n",
       "0  Finance Section  Meta stock has reached all time high due to it...   \n",
       "1   Sports Section  San Francisco 49ers are heading to the super b...   \n",
       "\n",
       "                                          Embeddings  \n",
       "0  [0.040587973, -0.00784966, -0.017593645, 0.016...  \n",
       "1  [0.017034732, -0.002852212, -0.05543998, -0.02...  "
      ]
     },
     "execution_count": 24,
     "metadata": {},
     "output_type": "execute_result"
    }
   ],
   "source": [
    "df"
   ]
  },
  {
   "cell_type": "code",
   "execution_count": 25,
   "id": "9a5fa4e0-cecc-4f3f-a405-8c831b59ea40",
   "metadata": {},
   "outputs": [],
   "source": [
    "import numpy as np"
   ]
  },
  {
   "cell_type": "code",
   "execution_count": 26,
   "id": "f2b9f692-b791-4421-8121-f56fd604b136",
   "metadata": {},
   "outputs": [],
   "source": [
    "def query_similarity_score(query,vector):\n",
    "    # query --> actual user's text \"tell me about football sport?\" text string\n",
    "    # Vector --> Array (list), numpy array, eg Embedding \n",
    "\n",
    "    # Query String --> List\n",
    "    query_embedding = embed_text(query)\n",
    "\n",
    "    # Similarity between 2 lists\n",
    "    return np.dot(query_embedding,vector)"
   ]
  },
  {
   "cell_type": "code",
   "execution_count": 27,
   "id": "09330f29-eee9-449e-946c-12ff60a42c29",
   "metadata": {},
   "outputs": [],
   "source": [
    "query = \"Any interesting news about Meta stock performance today\""
   ]
  },
  {
   "cell_type": "code",
   "execution_count": 28,
   "id": "ee1d9a9d-2dc0-4c75-acaf-6ef513fe019e",
   "metadata": {},
   "outputs": [],
   "source": [
    "df['Similarity'] = df['Embeddings'].apply(lambda vector: query_similarity_score(query,vector))"
   ]
  },
  {
   "cell_type": "code",
   "execution_count": 29,
   "id": "ca05baa7-7aa5-4e4b-b069-8144072b2d52",
   "metadata": {},
   "outputs": [
    {
     "data": {
      "text/html": [
       "<div>\n",
       "<style scoped>\n",
       "    .dataframe tbody tr th:only-of-type {\n",
       "        vertical-align: middle;\n",
       "    }\n",
       "\n",
       "    .dataframe tbody tr th {\n",
       "        vertical-align: top;\n",
       "    }\n",
       "\n",
       "    .dataframe thead th {\n",
       "        text-align: right;\n",
       "    }\n",
       "</style>\n",
       "<table border=\"1\" class=\"dataframe\">\n",
       "  <thead>\n",
       "    <tr style=\"text-align: right;\">\n",
       "      <th></th>\n",
       "      <th>Title</th>\n",
       "      <th>Text</th>\n",
       "      <th>Embeddings</th>\n",
       "      <th>Similarity</th>\n",
       "    </tr>\n",
       "  </thead>\n",
       "  <tbody>\n",
       "    <tr>\n",
       "      <th>0</th>\n",
       "      <td>Finance Section</td>\n",
       "      <td>Meta stock has reached all time high due to it...</td>\n",
       "      <td>[0.040587973, -0.00784966, -0.017593645, 0.016...</td>\n",
       "      <td>0.871182</td>\n",
       "    </tr>\n",
       "    <tr>\n",
       "      <th>1</th>\n",
       "      <td>Sports Section</td>\n",
       "      <td>San Francisco 49ers are heading to the super b...</td>\n",
       "      <td>[0.017034732, -0.002852212, -0.05543998, -0.02...</td>\n",
       "      <td>0.660011</td>\n",
       "    </tr>\n",
       "  </tbody>\n",
       "</table>\n",
       "</div>"
      ],
      "text/plain": [
       "             Title                                               Text  \\\n",
       "0  Finance Section  Meta stock has reached all time high due to it...   \n",
       "1   Sports Section  San Francisco 49ers are heading to the super b...   \n",
       "\n",
       "                                          Embeddings  Similarity  \n",
       "0  [0.040587973, -0.00784966, -0.017593645, 0.016...    0.871182  \n",
       "1  [0.017034732, -0.002852212, -0.05543998, -0.02...    0.660011  "
      ]
     },
     "execution_count": 29,
     "metadata": {},
     "output_type": "execute_result"
    }
   ],
   "source": [
    "df"
   ]
  },
  {
   "cell_type": "code",
   "execution_count": 30,
   "id": "7fd71eb2-e548-4cfc-b6c5-5d54672063a7",
   "metadata": {},
   "outputs": [
    {
     "data": {
      "text/plain": [
       "Title                                      Finance Section\n",
       "Text     Meta stock has reached all time high due to it...\n",
       "Name: 0, dtype: object"
      ]
     },
     "execution_count": 30,
     "metadata": {},
     "output_type": "execute_result"
    }
   ],
   "source": [
    "df.sort_values('Similarity',ascending=False)[['Title','Text']].iloc[0]"
   ]
  },
  {
   "cell_type": "code",
   "execution_count": 31,
   "id": "9c3523c3-f3d5-44d2-acd0-6b33af84df15",
   "metadata": {},
   "outputs": [],
   "source": [
    "def most_similar_document(df, query):\n",
    "    df['Similarity'] = df['Embeddings'].apply(lambda vector: query_similarity_score(query,vector))\n",
    "    title = df.sort_values('Similarity',ascending=False)[['Title','Text']].iloc[0]['Title']\n",
    "    text = df.sort_values('Similarity',ascending=False)[['Title','Text']].iloc[0]['Text']\n",
    "    return title,text"
   ]
  },
  {
   "cell_type": "code",
   "execution_count": 32,
   "id": "41da3f88-6da4-4015-91dc-1386ffcce0da",
   "metadata": {},
   "outputs": [],
   "source": [
    "title, text = most_similar_document(df, 'Any news about the San Francisco 49ers today?')"
   ]
  },
  {
   "cell_type": "code",
   "execution_count": 33,
   "id": "4ce88967-1044-4fcb-907a-a80a590f01db",
   "metadata": {},
   "outputs": [
    {
     "data": {
      "text/plain": [
       "'Sports Section'"
      ]
     },
     "execution_count": 33,
     "metadata": {},
     "output_type": "execute_result"
    }
   ],
   "source": [
    "title"
   ]
  },
  {
   "cell_type": "code",
   "execution_count": 34,
   "id": "8e7d7701-e514-4bf3-969a-3aa712b37e00",
   "metadata": {},
   "outputs": [
    {
     "data": {
      "text/plain": [
       "'San Francisco 49ers are heading to the super bowl in a football showdown!'"
      ]
     },
     "execution_count": 34,
     "metadata": {},
     "output_type": "execute_result"
    }
   ],
   "source": [
    "text"
   ]
  },
  {
   "cell_type": "code",
   "execution_count": 35,
   "id": "d3102228-450e-45f9-8f08-131ebaaea658",
   "metadata": {},
   "outputs": [],
   "source": [
    "def RAG(df, query):\n",
    "    # Retrieval Document\n",
    "    title, text = most_similar_document(df, query)\n",
    "    # Augmented Generation - Model\n",
    "    model = genai.GenerativeModel('gemini-pro')\n",
    "    # Augment --> \\n prompt eng\n",
    "    # prompt = f\"Answer this query:\\n{query}.\\nOnly use this context to answer:\\n{text}\"\n",
    "    prompt = f\"Answer this query:\\n{query}.\\nOnly use this context to answer but give me any extra info that you maybe aware of:\\n{text}\"\n",
    "    # Sourcing (title), to know which document was used\n",
    "    response = model.generate_content(prompt)\n",
    "    return f\"{response.text}\\n\\nSource Doc Title: {title}\""
   ]
  },
  {
   "cell_type": "code",
   "execution_count": 36,
   "id": "103ec7d6-6094-4757-9a4b-1863f5e2019f",
   "metadata": {},
   "outputs": [
    {
     "name": "stdout",
     "output_type": "stream",
     "text": [
      "I do not have any other information about the 49ers from the provided context.\n",
      "\n",
      "Source Doc Title: Sports Section\n"
     ]
    }
   ],
   "source": [
    "print(RAG(df, \"Do you have any information about the 49ers?\"))"
   ]
  },
  {
   "cell_type": "markdown",
   "id": "1c0377d5-67b9-4d75-a81e-eb79f3ecf352",
   "metadata": {},
   "source": [
    "# Test with real world documents"
   ]
  },
  {
   "cell_type": "code",
   "execution_count": 37,
   "id": "51735693-bc41-4f18-b828-e38e09bf2695",
   "metadata": {},
   "outputs": [],
   "source": [
    "#!pip install PyPDF2"
   ]
  },
  {
   "cell_type": "code",
   "execution_count": 38,
   "id": "0bed2015-9848-4eaf-b871-c75b8107c562",
   "metadata": {},
   "outputs": [],
   "source": [
    "import os\n",
    "import pandas as pd\n",
    "from PyPDF2 import PdfReader\n",
    "\n",
    "# Initialize an empty DataFrame with columns 'Title' and 'Text'\n",
    "df = pd.DataFrame(columns=['Title', 'Text'])\n",
    "subdir = '03-Embeddings-and-RAG'\n",
    "# Loop through each file in the sub directory 03-Embeddings-and-RAG\n",
    "for file_name in os.listdir(subdir):\n",
    "    if file_name.endswith('.pdf'):\n",
    "        try:\n",
    "            # Open the PDF file\n",
    "            with open(f\"{subdir}/{file_name}\", 'rb') as file:\n",
    "                # Initialize a PDF file reader\n",
    "                pdf_reader = PdfReader(file)\n",
    "                # Initialize text variable to store the content of the PDF\n",
    "                text = ''\n",
    "                # Iterate through each page in the PDF\n",
    "                for page_num in range(len(pdf_reader.pages)):\n",
    "                    # Extract text from the page\n",
    "                    text += pdf_reader.pages[page_num].extract_text()\n",
    "                    text = text.replace('\\n',' ')\n",
    "                # Create a new DataFrame with the file's title and text\n",
    "                new_row = pd.DataFrame({'Title': [file_name], 'Text': [text]})\n",
    "                # Concatenate the new DataFrame row to the existing DataFrame\n",
    "                df = pd.concat([df, new_row], ignore_index=True)\n",
    "        except Exception as e:\n",
    "            print(f\"Error processing file {file_name}: {e}\")"
   ]
  },
  {
   "cell_type": "code",
   "execution_count": 39,
   "id": "3b58f86e-b009-4f91-b32b-e02e90389d2c",
   "metadata": {
    "scrolled": true
   },
   "outputs": [
    {
     "name": "stdout",
     "output_type": "stream",
     "text": [
      "Wonka Milk Chocolate Factory: Facility Safety Rules Preface: The Wonka Milk Chocolate Factory prioritizes the safety and well-being of its employees and visitors. These detailed safety rules are designed to ensure a safe and healthy work environment for everyone. General Rules: 1. Personal Protective Equipment (PPE): All employees must wear the designated PPE at all times while on the factory floor . This includes: ○ Hairnets or beard covers ○ Safety glasses or goggles ○ Disposable gloves ○ Protective clothing (aprons or overalls) ○ Closed-toe, non-slip shoes 2. Hygiene: Thorough handwashing with soap and water is required: ○ Before starting work ○ After using the restroom ○ After eating, drinking, or smoking ○ After handling trash or any unsanitary items ○ Before handling any food materials 3. Food Safety: Employees must adhere to strict food safety guidelines: ○ Do not eat, drink, or smoke in production areas. ○ Do not touch your face, hair, or clothing while handling food materials. ○ Report any spills or contamination immediately . ○ Maintain proper storage temperatures for all ingredients and finished products.4. Machinery and Equipment: ○ Only trained and authorized personnel may operate machinery . ○ Never reach into moving machinery . ○ Report any malfunctioning equipment immediately . ○ Lock out and tag out machinery before performing maintenance. 5. General Safety: ○ Report any unsafe conditions or hazards immediately . ○ Be aware of your surroundings and watch for potential hazards. ○ Do not horseplay or run in the factory . ○ Use designated walkways and stairways. ○ Know the location of emergency exits and safety equipment. ○ Report all accidents and injuries immediately . Specific Rules by Department: ● Ingredients Handling: ○ Wear appropriate gloves and respiratory protection when handling dusty or powdered ingredients. ○ Follow proper procedures for weighing and measuring ingredients. ○ Be aware of the potential for allergens and cross-contamination. ● Mixing and Grinding: ○ Stand clear of mixers and grinders while they are operating. ○ Use designated tools and utensils for handling molten chocolate. ○ Be aware of the potential for burns and spills. ● Molding and Packaging:○ Do not touch the conveyor belts or moving parts of packaging machines. ○ Be careful not to pinch fingers when handling packaging materials. ○ Report any damaged or malfunctioning packaging equipment immediately . ● Cleaning and Sanitation: ○ Wear gloves and eye protection when using cleaning chemicals. ○ Follow proper dilution instructions for cleaning chemicals. ○ Be aware of the potential for slippery surfaces after cleaning. ● Maintenance and Repair: ○ Lock out and tag out equipment before performing any maintenance or repair . ○ Use appropriate tools and safety equipment for the task. ○ Be aware of the potential for electrical hazards. Emergency Procedures: ● All employees must be familiar with the emergency procedures for the factory . ○ This includes knowing the location of emergency exits, fire extinguishers, and first-aid kits. ● Employees must be trained on how to respond to different types of emergencies, such as fires, spills, and medical emergencies. Safety Training and Awareness: ● All new employees will receive comprehensive safety training upon hire. ● Refresher training will be provided on a regular basis. ○ Safety awareness campaigns and safety meetings will be held throughout the year .Reporting and Investigation: ● All accidents and injuries must be reported to supervisors immediately . ○ Thorough investigations will be conducted for all incidents. ● Corrective actions will be taken to prevent future incidents. Compliance: ● The Wonka Milk Chocolate Factory is committed to complying with all applicable safety regulations. ○ Regular inspections will be conducted to ensure compliance with safety standards. Consequences: ● Failure to comply with safety rules may result in disciplinary action, up to and including termination of employment. Additional Notes: ● These safety rules are not exhaustive and may be amended at any time. ● Employees are encouraged to ask questions and report any concerns they may have about safety . ● By working together , we can create a safe and healthy work environment for everyone at the Wonka Milk Chocolate Factory . Pets: ● Only guide dogs are allowed on the premises. ● Guide dogs must be properly trained and housebroken. ● Guide dog owners must be in control of their dogs at all times. ● Guide dogs must not be disruptive or aggressive.● Guide dogs must wear a harness or vest clearly identifying them as guide dogs. ● Guide dog owners are responsible for cleaning up after their dogs. ● Guide dogs are not allowed in food\n"
     ]
    }
   ],
   "source": [
    "print(df['Text'].iloc[0])"
   ]
  },
  {
   "cell_type": "code",
   "execution_count": 40,
   "id": "53e4aa8e-2fe6-4769-837d-e1e71a601620",
   "metadata": {},
   "outputs": [
    {
     "data": {
      "text/html": [
       "<div>\n",
       "<style scoped>\n",
       "    .dataframe tbody tr th:only-of-type {\n",
       "        vertical-align: middle;\n",
       "    }\n",
       "\n",
       "    .dataframe tbody tr th {\n",
       "        vertical-align: top;\n",
       "    }\n",
       "\n",
       "    .dataframe thead th {\n",
       "        text-align: right;\n",
       "    }\n",
       "</style>\n",
       "<table border=\"1\" class=\"dataframe\">\n",
       "  <thead>\n",
       "    <tr style=\"text-align: right;\">\n",
       "      <th></th>\n",
       "      <th>Title</th>\n",
       "      <th>Text</th>\n",
       "    </tr>\n",
       "  </thead>\n",
       "  <tbody>\n",
       "    <tr>\n",
       "      <th>0</th>\n",
       "      <td>Wonka Chocolate Facility Rules.pdf</td>\n",
       "      <td>Wonka Milk Chocolate Factory: Facility Safety ...</td>\n",
       "    </tr>\n",
       "  </tbody>\n",
       "</table>\n",
       "</div>"
      ],
      "text/plain": [
       "                                Title  \\\n",
       "0  Wonka Chocolate Facility Rules.pdf   \n",
       "\n",
       "                                                Text  \n",
       "0  Wonka Milk Chocolate Factory: Facility Safety ...  "
      ]
     },
     "execution_count": 40,
     "metadata": {},
     "output_type": "execute_result"
    }
   ],
   "source": [
    "df.head(5)"
   ]
  },
  {
   "cell_type": "code",
   "execution_count": 41,
   "id": "9a5b6f9b-9820-4e3a-a305-6dd98048e1c7",
   "metadata": {},
   "outputs": [],
   "source": [
    "# create vector embeddings and store it\n",
    "df['Embeddings'] = df['Text'].apply(embed_text) "
   ]
  },
  {
   "cell_type": "code",
   "execution_count": 42,
   "id": "14978271-8380-434d-afff-feccb415efaa",
   "metadata": {},
   "outputs": [
    {
     "data": {
      "text/html": [
       "<div>\n",
       "<style scoped>\n",
       "    .dataframe tbody tr th:only-of-type {\n",
       "        vertical-align: middle;\n",
       "    }\n",
       "\n",
       "    .dataframe tbody tr th {\n",
       "        vertical-align: top;\n",
       "    }\n",
       "\n",
       "    .dataframe thead th {\n",
       "        text-align: right;\n",
       "    }\n",
       "</style>\n",
       "<table border=\"1\" class=\"dataframe\">\n",
       "  <thead>\n",
       "    <tr style=\"text-align: right;\">\n",
       "      <th></th>\n",
       "      <th>Title</th>\n",
       "      <th>Text</th>\n",
       "      <th>Embeddings</th>\n",
       "    </tr>\n",
       "  </thead>\n",
       "  <tbody>\n",
       "    <tr>\n",
       "      <th>0</th>\n",
       "      <td>Wonka Chocolate Facility Rules.pdf</td>\n",
       "      <td>Wonka Milk Chocolate Factory: Facility Safety ...</td>\n",
       "      <td>[0.013815645, -0.057831157, -0.03580527, -0.02...</td>\n",
       "    </tr>\n",
       "  </tbody>\n",
       "</table>\n",
       "</div>"
      ],
      "text/plain": [
       "                                Title  \\\n",
       "0  Wonka Chocolate Facility Rules.pdf   \n",
       "\n",
       "                                                Text  \\\n",
       "0  Wonka Milk Chocolate Factory: Facility Safety ...   \n",
       "\n",
       "                                          Embeddings  \n",
       "0  [0.013815645, -0.057831157, -0.03580527, -0.02...  "
      ]
     },
     "execution_count": 42,
     "metadata": {},
     "output_type": "execute_result"
    }
   ],
   "source": [
    "df.head(1)"
   ]
  },
  {
   "cell_type": "code",
   "execution_count": 43,
   "id": "426e6bcb-0260-4c59-a4a6-564ef08e59d4",
   "metadata": {},
   "outputs": [
    {
     "name": "stdout",
     "output_type": "stream",
     "text": [
      "<class 'pandas.core.frame.DataFrame'>\n",
      "RangeIndex: 1 entries, 0 to 0\n",
      "Data columns (total 3 columns):\n",
      " #   Column      Non-Null Count  Dtype \n",
      "---  ------      --------------  ----- \n",
      " 0   Title       1 non-null      object\n",
      " 1   Text        1 non-null      object\n",
      " 2   Embeddings  1 non-null      object\n",
      "dtypes: object(3)\n",
      "memory usage: 152.0+ bytes\n"
     ]
    }
   ],
   "source": [
    "df.info()"
   ]
  },
  {
   "cell_type": "code",
   "execution_count": 44,
   "id": "ec0db0f8-6130-4819-b4c9-7d2651c45ba9",
   "metadata": {},
   "outputs": [],
   "source": [
    "query_doc = \"What to do in case of injuries?\""
   ]
  },
  {
   "cell_type": "code",
   "execution_count": 45,
   "id": "a7fa6326-f51c-445e-96ba-6ec326b6f74c",
   "metadata": {},
   "outputs": [
    {
     "name": "stdout",
     "output_type": "stream",
     "text": [
      "In case of injuries, the following steps should be taken:\n",
      "\n",
      "1. Report all accidents and injuries to supervisors immediately.\n",
      "2. Thorough investigations will be conducted for all incidents.\n",
      "3. Corrective actions will be taken to prevent future incidents.\n",
      "\n",
      "Source Doc Title: Wonka Chocolate Facility Rules.pdf\n"
     ]
    }
   ],
   "source": [
    "# perform similarity search\n",
    "print(RAG(df, query_doc))"
   ]
  }
 ],
 "metadata": {
  "kernelspec": {
   "display_name": "Python 3 (ipykernel)",
   "language": "python",
   "name": "python3"
  },
  "language_info": {
   "codemirror_mode": {
    "name": "ipython",
    "version": 3
   },
   "file_extension": ".py",
   "mimetype": "text/x-python",
   "name": "python",
   "nbconvert_exporter": "python",
   "pygments_lexer": "ipython3",
   "version": "3.9.6"
  }
 },
 "nbformat": 4,
 "nbformat_minor": 5
}
