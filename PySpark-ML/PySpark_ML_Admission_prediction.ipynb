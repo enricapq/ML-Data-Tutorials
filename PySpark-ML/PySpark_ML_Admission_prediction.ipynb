{
  "nbformat": 4,
  "nbformat_minor": 0,
  "metadata": {
    "colab": {
      "name": "Admission_prediction_with_pyspark_ml.ipynb",
      "provenance": [],
      "collapsed_sections": []
    },
    "kernelspec": {
      "name": "python3",
      "display_name": "Python 3"
    }
  },
  "cells": [
    {
      "cell_type": "markdown",
      "metadata": {
        "id": "rZtskxrQyg3e"
      },
      "source": [
        "# TASK 1 : Install Dependencies & Run a SparkSession\n"
      ]
    },
    {
      "cell_type": "code",
      "metadata": {
        "id": "a9huiQF8yfIK",
        "colab": {
          "base_uri": "https://localhost:8080/"
        },
        "outputId": "7f582a05-8a72-4563-ce7b-ce32c2adde88"
      },
      "source": [
        "#install pyspark\n",
        "! pip install pyspark"
      ],
      "execution_count": 3,
      "outputs": [
        {
          "output_type": "stream",
          "name": "stdout",
          "text": [
            "Collecting pyspark\n",
            "  Downloading pyspark-3.2.0.tar.gz (281.3 MB)\n",
            "\u001b[K     |████████████████████████████████| 281.3 MB 39 kB/s \n",
            "\u001b[?25hCollecting py4j==0.10.9.2\n",
            "  Downloading py4j-0.10.9.2-py2.py3-none-any.whl (198 kB)\n",
            "\u001b[K     |████████████████████████████████| 198 kB 50.8 MB/s \n",
            "\u001b[?25hBuilding wheels for collected packages: pyspark\n",
            "  Building wheel for pyspark (setup.py) ... \u001b[?25l\u001b[?25hdone\n",
            "  Created wheel for pyspark: filename=pyspark-3.2.0-py2.py3-none-any.whl size=281805912 sha256=cb325ad10cb950b6bedbb7ef2968bdfc3f2c618de43e6a22b1674394a9842dee\n",
            "  Stored in directory: /root/.cache/pip/wheels/0b/de/d2/9be5d59d7331c6c2a7c1b6d1a4f463ce107332b1ecd4e80718\n",
            "Successfully built pyspark\n",
            "Installing collected packages: py4j, pyspark\n",
            "Successfully installed py4j-0.10.9.2 pyspark-3.2.0\n"
          ]
        }
      ]
    },
    {
      "cell_type": "code",
      "metadata": {
        "id": "1wZpO2gxy7Pt"
      },
      "source": [
        "#create a sparksession\n",
        "from pyspark.sql import SparkSession\n",
        "spark = SparkSession.builder.appName(\"spark\").getOrCreate()"
      ],
      "execution_count": 4,
      "outputs": []
    },
    {
      "cell_type": "markdown",
      "metadata": {
        "id": "8t7JFc_My__A"
      },
      "source": [
        "# TASK 2 : Clone & Explore dataset"
      ]
    },
    {
      "cell_type": "code",
      "metadata": {
        "id": "C0oRpI4ezFgc",
        "colab": {
          "base_uri": "https://localhost:8080/"
        },
        "outputId": "528935e7-f2e1-4632-815b-f6eac7c2127a"
      },
      "source": [
        "#clone the dataset\n",
        "! git clone https://github.com/education454/admission_dataset"
      ],
      "execution_count": 5,
      "outputs": [
        {
          "output_type": "stream",
          "name": "stdout",
          "text": [
            "Cloning into 'admission_dataset'...\n",
            "remote: Enumerating objects: 3, done.\u001b[K\n",
            "remote: Counting objects: 100% (3/3), done.\u001b[K\n",
            "remote: Compressing objects: 100% (3/3), done.\u001b[K\n",
            "remote: Total 3 (delta 0), reused 0 (delta 0), pack-reused 0\u001b[K\n",
            "Unpacking objects: 100% (3/3), done.\n"
          ]
        }
      ]
    },
    {
      "cell_type": "code",
      "metadata": {
        "id": "Evfd9ACizers",
        "colab": {
          "base_uri": "https://localhost:8080/"
        },
        "outputId": "9f420564-eb8f-4ca4-c498-a809f000458a"
      },
      "source": [
        "#check the presence of dataset\n",
        "! ls admission_dataset"
      ],
      "execution_count": 7,
      "outputs": [
        {
          "output_type": "stream",
          "name": "stdout",
          "text": [
            "Admission_Predict_Ver1.1.csv\n"
          ]
        }
      ]
    },
    {
      "cell_type": "code",
      "metadata": {
        "id": "q6sF2NVazjtU"
      },
      "source": [
        "#create a spark dataframe\n",
        "df = spark.read.csv('/content/admission_dataset/Admission_Predict_Ver1.1.csv', header=True, inferSchema=True)"
      ],
      "execution_count": 9,
      "outputs": []
    },
    {
      "cell_type": "code",
      "metadata": {
        "id": "cG6UhIUuznfJ",
        "colab": {
          "base_uri": "https://localhost:8080/"
        },
        "outputId": "3f182d58-99bf-49f0-d765-2e0430b8df07"
      },
      "source": [
        "#display dataframe\n",
        "df.show()"
      ],
      "execution_count": 10,
      "outputs": [
        {
          "output_type": "stream",
          "name": "stdout",
          "text": [
            "+---------+---------+-----------+-----------------+---+---+----+--------+---------------+\n",
            "|Serial No|GRE Score|TOEFL Score|University Rating|SOP|LOR|CGPA|Research|Chance of Admit|\n",
            "+---------+---------+-----------+-----------------+---+---+----+--------+---------------+\n",
            "|        1|      337|        118|                4|4.5|4.5|9.65|       1|           0.92|\n",
            "|        2|      324|        107|                4|4.0|4.5|8.87|       1|           0.76|\n",
            "|        3|      316|        104|                3|3.0|3.5| 8.0|       1|           0.72|\n",
            "|        4|      322|        110|                3|3.5|2.5|8.67|       1|            0.8|\n",
            "|        5|      314|        103|                2|2.0|3.0|8.21|       0|           0.65|\n",
            "|        6|      330|        115|                5|4.5|3.0|9.34|       1|            0.9|\n",
            "|        7|      321|        109|                3|3.0|4.0| 8.2|       1|           0.75|\n",
            "|        8|      308|        101|                2|3.0|4.0| 7.9|       0|           0.68|\n",
            "|        9|      302|        102|                1|2.0|1.5| 8.0|       0|            0.5|\n",
            "|       10|      323|        108|                3|3.5|3.0| 8.6|       0|           0.45|\n",
            "|       11|      325|        106|                3|3.5|4.0| 8.4|       1|           0.52|\n",
            "|       12|      327|        111|                4|4.0|4.5| 9.0|       1|           0.84|\n",
            "|       13|      328|        112|                4|4.0|4.5| 9.1|       1|           0.78|\n",
            "|       14|      307|        109|                3|4.0|3.0| 8.0|       1|           0.62|\n",
            "|       15|      311|        104|                3|3.5|2.0| 8.2|       1|           0.61|\n",
            "|       16|      314|        105|                3|3.5|2.5| 8.3|       0|           0.54|\n",
            "|       17|      317|        107|                3|4.0|3.0| 8.7|       0|           0.66|\n",
            "|       18|      319|        106|                3|4.0|3.0| 8.0|       1|           0.65|\n",
            "|       19|      318|        110|                3|4.0|3.0| 8.8|       0|           0.63|\n",
            "|       20|      303|        102|                3|3.5|3.0| 8.5|       0|           0.62|\n",
            "+---------+---------+-----------+-----------------+---+---+----+--------+---------------+\n",
            "only showing top 20 rows\n",
            "\n"
          ]
        }
      ]
    },
    {
      "cell_type": "code",
      "metadata": {
        "id": "tgtWocArzqVR",
        "colab": {
          "base_uri": "https://localhost:8080/"
        },
        "outputId": "edad6431-5fae-4b3c-f8de-1b5d6112be08"
      },
      "source": [
        "#get the no.of rows & columns\n",
        "print((df.count(), len(df.columns)))"
      ],
      "execution_count": 11,
      "outputs": [
        {
          "output_type": "stream",
          "name": "stdout",
          "text": [
            "(500, 9)\n"
          ]
        }
      ]
    },
    {
      "cell_type": "code",
      "metadata": {
        "id": "OWQTe006zt7O",
        "colab": {
          "base_uri": "https://localhost:8080/"
        },
        "outputId": "879bf321-d7e8-4658-95d1-3af82b28bb54"
      },
      "source": [
        "#print schema \n",
        "df.printSchema()"
      ],
      "execution_count": 12,
      "outputs": [
        {
          "output_type": "stream",
          "name": "stdout",
          "text": [
            "root\n",
            " |-- Serial No: integer (nullable = true)\n",
            " |-- GRE Score: integer (nullable = true)\n",
            " |-- TOEFL Score: integer (nullable = true)\n",
            " |-- University Rating: integer (nullable = true)\n",
            " |-- SOP: double (nullable = true)\n",
            " |-- LOR: double (nullable = true)\n",
            " |-- CGPA: double (nullable = true)\n",
            " |-- Research: integer (nullable = true)\n",
            " |-- Chance of Admit: double (nullable = true)\n",
            "\n"
          ]
        }
      ]
    },
    {
      "cell_type": "code",
      "metadata": {
        "id": "locEx8HDz264",
        "colab": {
          "base_uri": "https://localhost:8080/"
        },
        "outputId": "fa16f90c-fe57-4eb5-dcef-21ad567c9c8a"
      },
      "source": [
        "#get the summary statistics\n",
        "df.describe().show()"
      ],
      "execution_count": 13,
      "outputs": [
        {
          "output_type": "stream",
          "name": "stdout",
          "text": [
            "+-------+-----------------+------------------+-----------------+-----------------+------------------+------------------+------------------+------------------+-------------------+\n",
            "|summary|        Serial No|         GRE Score|      TOEFL Score|University Rating|               SOP|               LOR|              CGPA|          Research|    Chance of Admit|\n",
            "+-------+-----------------+------------------+-----------------+-----------------+------------------+------------------+------------------+------------------+-------------------+\n",
            "|  count|              500|               500|              500|              500|               500|               500|               500|               500|                500|\n",
            "|   mean|            250.5|           316.472|          107.192|            3.114|             3.374|             3.484| 8.576440000000003|              0.56| 0.7217399999999996|\n",
            "| stddev|144.4818327679989|11.295148372354712|6.081867659564538|1.143511800759815|0.9910036207566072|0.9254495738978191|0.6048128003332054|0.4968840786090358|0.14114040395030228|\n",
            "|    min|                1|               290|               92|                1|               1.0|               1.0|               6.8|                 0|               0.34|\n",
            "|    max|              500|               340|              120|                5|               5.0|               5.0|              9.92|                 1|               0.97|\n",
            "+-------+-----------------+------------------+-----------------+-----------------+------------------+------------------+------------------+------------------+-------------------+\n",
            "\n"
          ]
        }
      ]
    },
    {
      "cell_type": "markdown",
      "metadata": {
        "id": "6uDdoEKsz6h6"
      },
      "source": [
        "# TASK 3 : Data Cleaning"
      ]
    },
    {
      "cell_type": "code",
      "metadata": {
        "id": "o6gJAFo30G9s"
      },
      "source": [
        "#drop the unnecessary column\n",
        "df = df.drop('Serial No')"
      ],
      "execution_count": 14,
      "outputs": []
    },
    {
      "cell_type": "code",
      "metadata": {
        "id": "_lOPoDVk0OFH",
        "colab": {
          "base_uri": "https://localhost:8080/"
        },
        "outputId": "d8bda8ec-e26a-4bfc-aa06-c7a5429fdb6d"
      },
      "source": [
        "#display the dataframe\n",
        "df.show()"
      ],
      "execution_count": 15,
      "outputs": [
        {
          "output_type": "stream",
          "name": "stdout",
          "text": [
            "+---------+-----------+-----------------+---+---+----+--------+---------------+\n",
            "|GRE Score|TOEFL Score|University Rating|SOP|LOR|CGPA|Research|Chance of Admit|\n",
            "+---------+-----------+-----------------+---+---+----+--------+---------------+\n",
            "|      337|        118|                4|4.5|4.5|9.65|       1|           0.92|\n",
            "|      324|        107|                4|4.0|4.5|8.87|       1|           0.76|\n",
            "|      316|        104|                3|3.0|3.5| 8.0|       1|           0.72|\n",
            "|      322|        110|                3|3.5|2.5|8.67|       1|            0.8|\n",
            "|      314|        103|                2|2.0|3.0|8.21|       0|           0.65|\n",
            "|      330|        115|                5|4.5|3.0|9.34|       1|            0.9|\n",
            "|      321|        109|                3|3.0|4.0| 8.2|       1|           0.75|\n",
            "|      308|        101|                2|3.0|4.0| 7.9|       0|           0.68|\n",
            "|      302|        102|                1|2.0|1.5| 8.0|       0|            0.5|\n",
            "|      323|        108|                3|3.5|3.0| 8.6|       0|           0.45|\n",
            "|      325|        106|                3|3.5|4.0| 8.4|       1|           0.52|\n",
            "|      327|        111|                4|4.0|4.5| 9.0|       1|           0.84|\n",
            "|      328|        112|                4|4.0|4.5| 9.1|       1|           0.78|\n",
            "|      307|        109|                3|4.0|3.0| 8.0|       1|           0.62|\n",
            "|      311|        104|                3|3.5|2.0| 8.2|       1|           0.61|\n",
            "|      314|        105|                3|3.5|2.5| 8.3|       0|           0.54|\n",
            "|      317|        107|                3|4.0|3.0| 8.7|       0|           0.66|\n",
            "|      319|        106|                3|4.0|3.0| 8.0|       1|           0.65|\n",
            "|      318|        110|                3|4.0|3.0| 8.8|       0|           0.63|\n",
            "|      303|        102|                3|3.5|3.0| 8.5|       0|           0.62|\n",
            "+---------+-----------+-----------------+---+---+----+--------+---------------+\n",
            "only showing top 20 rows\n",
            "\n"
          ]
        }
      ]
    },
    {
      "cell_type": "code",
      "metadata": {
        "id": "Au73oUZJ0Qv7",
        "colab": {
          "base_uri": "https://localhost:8080/"
        },
        "outputId": "9b5683be-3a50-4926-9655-1468add9e3a8"
      },
      "source": [
        "#check for null values in each column\n",
        "for i in df.columns:\n",
        "  print(i+\":\",df[df[i].isNull()].count())"
      ],
      "execution_count": 17,
      "outputs": [
        {
          "output_type": "stream",
          "name": "stdout",
          "text": [
            "GRE Score: 0\n",
            "TOEFL Score: 0\n",
            "University Rating: 0\n",
            "SOP: 0\n",
            "LOR: 0\n",
            "CGPA: 0\n",
            "Research: 0\n",
            "Chance of Admit: 0\n"
          ]
        }
      ]
    },
    {
      "cell_type": "markdown",
      "metadata": {
        "id": "prkDI9Dc0SoH"
      },
      "source": [
        "# TASK 4 : Correlation Analysis & Feature Selection"
      ]
    },
    {
      "cell_type": "code",
      "metadata": {
        "id": "eFhxSRRj0Ypa",
        "colab": {
          "base_uri": "https://localhost:8080/"
        },
        "outputId": "d36494b8-a8ec-4504-d163-2bed8eabc39e"
      },
      "source": [
        "# correlation analysis\n",
        "for col in df.columns:\n",
        "  print('Correlation to chance of admit col for {} is {}'.format(col, df.stat.corr('Chance of Admit', col)))"
      ],
      "execution_count": 18,
      "outputs": [
        {
          "output_type": "stream",
          "name": "stdout",
          "text": [
            "Correlation to chance of admit col for GRE Score is 0.8103506354632598\n",
            "Correlation to chance of admit col for TOEFL Score is 0.7922276143050823\n",
            "Correlation to chance of admit col for University Rating is 0.6901323687886892\n",
            "Correlation to chance of admit col for SOP is 0.6841365241316723\n",
            "Correlation to chance of admit col for LOR is 0.6453645135280112\n",
            "Correlation to chance of admit col for CGPA is 0.882412574904574\n",
            "Correlation to chance of admit col for Research is 0.5458710294711379\n",
            "Correlation to chance of admit col for Chance of Admit is 1.0\n"
          ]
        }
      ]
    },
    {
      "cell_type": "code",
      "metadata": {
        "id": "UXNOknvo0dV2"
      },
      "source": [
        "# feature selection\n",
        "from pyspark.ml.feature import VectorAssembler\n",
        "assembler = VectorAssembler(inputCols=['GRE Score', 'TOEFL Score', 'CGPA'], outputCol='features')"
      ],
      "execution_count": 19,
      "outputs": []
    },
    {
      "cell_type": "code",
      "metadata": {
        "id": "JOzlkPaz0ibL",
        "colab": {
          "base_uri": "https://localhost:8080/"
        },
        "outputId": "2cf7f7e7-644b-4a9e-c6ad-c803340c9d3e"
      },
      "source": [
        "#display dataframe\n",
        "output_data = assembler.transform(df)\n",
        "output_data.show()"
      ],
      "execution_count": 21,
      "outputs": [
        {
          "output_type": "stream",
          "name": "stdout",
          "text": [
            "+---------+-----------+-----------------+---+---+----+--------+---------------+------------------+\n",
            "|GRE Score|TOEFL Score|University Rating|SOP|LOR|CGPA|Research|Chance of Admit|          features|\n",
            "+---------+-----------+-----------------+---+---+----+--------+---------------+------------------+\n",
            "|      337|        118|                4|4.5|4.5|9.65|       1|           0.92|[337.0,118.0,9.65]|\n",
            "|      324|        107|                4|4.0|4.5|8.87|       1|           0.76|[324.0,107.0,8.87]|\n",
            "|      316|        104|                3|3.0|3.5| 8.0|       1|           0.72| [316.0,104.0,8.0]|\n",
            "|      322|        110|                3|3.5|2.5|8.67|       1|            0.8|[322.0,110.0,8.67]|\n",
            "|      314|        103|                2|2.0|3.0|8.21|       0|           0.65|[314.0,103.0,8.21]|\n",
            "|      330|        115|                5|4.5|3.0|9.34|       1|            0.9|[330.0,115.0,9.34]|\n",
            "|      321|        109|                3|3.0|4.0| 8.2|       1|           0.75| [321.0,109.0,8.2]|\n",
            "|      308|        101|                2|3.0|4.0| 7.9|       0|           0.68| [308.0,101.0,7.9]|\n",
            "|      302|        102|                1|2.0|1.5| 8.0|       0|            0.5| [302.0,102.0,8.0]|\n",
            "|      323|        108|                3|3.5|3.0| 8.6|       0|           0.45| [323.0,108.0,8.6]|\n",
            "|      325|        106|                3|3.5|4.0| 8.4|       1|           0.52| [325.0,106.0,8.4]|\n",
            "|      327|        111|                4|4.0|4.5| 9.0|       1|           0.84| [327.0,111.0,9.0]|\n",
            "|      328|        112|                4|4.0|4.5| 9.1|       1|           0.78| [328.0,112.0,9.1]|\n",
            "|      307|        109|                3|4.0|3.0| 8.0|       1|           0.62| [307.0,109.0,8.0]|\n",
            "|      311|        104|                3|3.5|2.0| 8.2|       1|           0.61| [311.0,104.0,8.2]|\n",
            "|      314|        105|                3|3.5|2.5| 8.3|       0|           0.54| [314.0,105.0,8.3]|\n",
            "|      317|        107|                3|4.0|3.0| 8.7|       0|           0.66| [317.0,107.0,8.7]|\n",
            "|      319|        106|                3|4.0|3.0| 8.0|       1|           0.65| [319.0,106.0,8.0]|\n",
            "|      318|        110|                3|4.0|3.0| 8.8|       0|           0.63| [318.0,110.0,8.8]|\n",
            "|      303|        102|                3|3.5|3.0| 8.5|       0|           0.62| [303.0,102.0,8.5]|\n",
            "+---------+-----------+-----------------+---+---+----+--------+---------------+------------------+\n",
            "only showing top 20 rows\n",
            "\n"
          ]
        }
      ]
    },
    {
      "cell_type": "markdown",
      "metadata": {
        "id": "l6FucLAC0r5I"
      },
      "source": [
        "# TASK 5 : Build the Linear Regression Model"
      ]
    },
    {
      "cell_type": "code",
      "metadata": {
        "id": "RMYN_8jJ0wDR"
      },
      "source": [
        "#import Linearregression and create final data\n",
        "from pyspark.ml.regression import LinearRegression\n",
        "final_data = output_data.select('features', 'Chance of Admit')"
      ],
      "execution_count": 22,
      "outputs": []
    },
    {
      "cell_type": "code",
      "metadata": {
        "id": "MNSEfLCp09oO",
        "colab": {
          "base_uri": "https://localhost:8080/"
        },
        "outputId": "fdce2b5c-d558-4afb-a1bb-28f8b71617a1"
      },
      "source": [
        "#print schema of final data\n",
        "final_data.printSchema()"
      ],
      "execution_count": 23,
      "outputs": [
        {
          "output_type": "stream",
          "name": "stdout",
          "text": [
            "root\n",
            " |-- features: vector (nullable = true)\n",
            " |-- Chance of Admit: double (nullable = true)\n",
            "\n"
          ]
        }
      ]
    },
    {
      "cell_type": "code",
      "metadata": {
        "id": "vOJylIiS1Dre"
      },
      "source": [
        "#split the dataset into training and testing set\n",
        "train, test = final_data.randomSplit([0.7, 0.3])"
      ],
      "execution_count": 24,
      "outputs": []
    },
    {
      "cell_type": "code",
      "metadata": {
        "id": "xoxFzm4A1Hee"
      },
      "source": [
        "#build & train the model\n",
        "models = LinearRegression(featuresCol='features', labelCol='Chance of Admit')\n",
        "model = models.fit(train)"
      ],
      "execution_count": 26,
      "outputs": []
    },
    {
      "cell_type": "code",
      "metadata": {
        "id": "DDCZ9uvA1QLf",
        "colab": {
          "base_uri": "https://localhost:8080/"
        },
        "outputId": "ecc8cb95-a43b-4b00-ea57-c8323e7094cc"
      },
      "source": [
        "#get coefficients & intercept\n",
        "print('coefficients ', model.coefficients)\n",
        "print('intercept ', model.intercept)"
      ],
      "execution_count": 29,
      "outputs": [
        {
          "output_type": "stream",
          "name": "stdout",
          "text": [
            "coefficients  [0.002297042609942628,0.003020764092654871,0.14765459265617]\n",
            "intercept  -1.5929644465428132\n"
          ]
        }
      ]
    },
    {
      "cell_type": "code",
      "metadata": {
        "id": "bO6Duj1l1YJX"
      },
      "source": [
        "#get summary of the model\n",
        "summary = model.summary"
      ],
      "execution_count": 30,
      "outputs": []
    },
    {
      "cell_type": "code",
      "metadata": {
        "id": "ebi9LxFS1aBJ",
        "colab": {
          "base_uri": "https://localhost:8080/"
        },
        "outputId": "1e6c98ff-8963-411e-d865-088ad672c607"
      },
      "source": [
        "#print the rmse (root-mean-square error) & r2 score\n",
        "print('RMSE ', summary.rootMeanSquaredError)\n",
        "print('r2 score ', summary.r2) # the higher, the better"
      ],
      "execution_count": 31,
      "outputs": [
        {
          "output_type": "stream",
          "name": "stdout",
          "text": [
            "RMSE  0.06095098586341993\n",
            "r2 score  0.808237617773612\n"
          ]
        }
      ]
    },
    {
      "cell_type": "markdown",
      "metadata": {
        "id": "b5lTskfK1eKV"
      },
      "source": [
        "# TASK 6 : Evaluate & Save the Model"
      ]
    },
    {
      "cell_type": "code",
      "metadata": {
        "id": "l0TAwvGP1noC"
      },
      "source": [
        "#transform on the test data\n",
        "predictions = model.transform(test)"
      ],
      "execution_count": 32,
      "outputs": []
    },
    {
      "cell_type": "code",
      "metadata": {
        "id": "T_DixZ6f1nvP",
        "colab": {
          "base_uri": "https://localhost:8080/"
        },
        "outputId": "86fed5ad-84db-457a-a3da-e89a25d60df3"
      },
      "source": [
        "#display the predictions\n",
        "predictions.show(20)"
      ],
      "execution_count": 33,
      "outputs": [
        {
          "output_type": "stream",
          "name": "stdout",
          "text": [
            "+------------------+---------------+-------------------+\n",
            "|          features|Chance of Admit|         prediction|\n",
            "+------------------+---------------+-------------------+\n",
            "|[290.0,100.0,7.56]|           0.47|  0.491523040086681|\n",
            "|[290.0,104.0,7.46]|           0.45| 0.4888406371916836|\n",
            "| [294.0,93.0,7.36]|           0.46|0.45003494334663374|\n",
            "|  [295.0,93.0,7.2]|           0.46|0.42870725113158903|\n",
            "|[296.0,101.0,7.68]|            0.6| 0.5260446109577326|\n",
            "| [297.0,96.0,7.43]|           0.34| 0.4763241849403581|\n",
            "| [297.0,96.0,7.89]|           0.43| 0.5442452975621963|\n",
            "| [298.0,99.0,7.46]|           0.53| 0.4921131576079505|\n",
            "|[298.0,101.0,7.69]|           0.53| 0.5321152421041795|\n",
            "| [299.0,94.0,7.34]|           0.42|0.46158782863587833|\n",
            "| [299.0,97.0,7.66]|           0.38| 0.5178995905638173|\n",
            "| [300.0,98.0,8.02]|           0.61| 0.5763730506226361|\n",
            "| [300.0,99.0,8.01]|           0.58| 0.5779172687887293|\n",
            "|[300.0,101.0,7.88]|           0.59| 0.5647636999287369|\n",
            "|[300.0,102.0,8.17]|           0.63| 0.6106042958916809|\n",
            "|[300.0,104.0,8.16]|           0.71| 0.6151692781504292|\n",
            "| [301.0,99.0,8.22]|           0.64| 0.6112217758564675|\n",
            "| [301.0,99.0,8.45]|           0.68| 0.6451823321673866|\n",
            "|[301.0,104.0,7.89]|           0.68| 0.5775995807432057|\n",
            "|[301.0,106.0,8.47]|           0.57| 0.6692807726690941|\n",
            "+------------------+---------------+-------------------+\n",
            "only showing top 20 rows\n",
            "\n"
          ]
        }
      ]
    },
    {
      "cell_type": "code",
      "metadata": {
        "id": "vzxDnudZ1n3n",
        "colab": {
          "base_uri": "https://localhost:8080/"
        },
        "outputId": "21b4e979-066d-47a7-be3c-d883108966a3"
      },
      "source": [
        "#evaluate the model \n",
        "from pyspark.ml.evaluation import RegressionEvaluator\n",
        "evaluator = RegressionEvaluator(predictionCol='prediction', labelCol='Chance of Admit', metricName='r2')\n",
        "print('r2 on the test data ', evaluator.evaluate(predictions))"
      ],
      "execution_count": 36,
      "outputs": [
        {
          "output_type": "stream",
          "name": "stdout",
          "text": [
            "r2 on the test data  0.7940739775151171\n"
          ]
        }
      ]
    },
    {
      "cell_type": "code",
      "metadata": {
        "id": "WEeyiruX1n_I"
      },
      "source": [
        "#save the model\n",
        "model.save(\"model\")"
      ],
      "execution_count": 37,
      "outputs": []
    },
    {
      "cell_type": "code",
      "metadata": {
        "id": "PK48FYRd2CMJ"
      },
      "source": [
        "#load the model\n",
        "from pyspark.ml.regression import LinearRegressionModel\n",
        "model = LinearRegressionModel.load('model')"
      ],
      "execution_count": 40,
      "outputs": []
    },
    {
      "cell_type": "code",
      "source": [
        ""
      ],
      "metadata": {
        "id": "GMtlJdk58Yau"
      },
      "execution_count": null,
      "outputs": []
    }
  ]
}